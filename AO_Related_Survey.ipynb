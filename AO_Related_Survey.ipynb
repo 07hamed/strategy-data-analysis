{
  "nbformat": 4,
  "nbformat_minor": 0,
  "metadata": {
    "colab": {
      "provenance": []
    },
    "kernelspec": {
      "name": "python3",
      "display_name": "Python 3"
    },
    "language_info": {
      "name": "python"
    }
  },
  "cells": [
    {
      "cell_type": "code",
      "execution_count": 85,
      "metadata": {
        "id": "RP_ZuIO5C9HC"
      },
      "outputs": [],
      "source": [
        "import pandas as pd\n",
        "import matplotlib.pyplot as plt\n",
        "import seaborn as sns"
      ]
    },
    {
      "cell_type": "code",
      "source": [
        "small=pd.read_csv('/content/AO Related Survey - Small Companies New.csv')"
      ],
      "metadata": {
        "id": "tvUKcC5mDN8T"
      },
      "execution_count": 86,
      "outputs": []
    },
    {
      "cell_type": "code",
      "source": [
        "small.info()"
      ],
      "metadata": {
        "colab": {
          "base_uri": "https://localhost:8080/"
        },
        "id": "adb7h9ezDRXj",
        "outputId": "ede855ff-d9f3-428c-8b80-046d55b65079"
      },
      "execution_count": 87,
      "outputs": [
        {
          "output_type": "stream",
          "name": "stdout",
          "text": [
            "<class 'pandas.core.frame.DataFrame'>\n",
            "RangeIndex: 278 entries, 0 to 277\n",
            "Data columns (total 7 columns):\n",
            " #   Column        Non-Null Count  Dtype \n",
            "---  ------        --------------  ----- \n",
            " 0   Industry      278 non-null    object\n",
            " 1   CV_Sorting    31 non-null     object\n",
            " 2   Difficult     26 non-null     object\n",
            " 3   Contacted     23 non-null     object\n",
            " 4   Benefits_AOP  19 non-null     object\n",
            " 5   Know_MC       22 non-null     object\n",
            " 6   Remark        15 non-null     object\n",
            "dtypes: object(7)\n",
            "memory usage: 15.3+ KB\n"
          ]
        }
      ]
    },
    {
      "cell_type": "code",
      "source": [
        "small.head()"
      ],
      "metadata": {
        "colab": {
          "base_uri": "https://localhost:8080/",
          "height": 206
        },
        "id": "APdMPv46DTjO",
        "outputId": "51f74007-9b18-4c96-ec0f-aea716ac5740"
      },
      "execution_count": 88,
      "outputs": [
        {
          "output_type": "execute_result",
          "data": {
            "text/plain": [
              "                      Industry CV_Sorting Difficult Contacted Benefits_AOP  \\\n",
              "0  Information Technology (IT)     Bdjobs        No       Yes     Not Much   \n",
              "1  Information Technology (IT)     Bdjobs       NaN       NaN          NaN   \n",
              "2  Information Technology (IT)     Bdjobs       Yes       Yes     Not Much   \n",
              "3            Garments/ Textile   Manually       Yes        No     Not Much   \n",
              "4  Information Technology (IT)     Bdjobs        No       Yes     Not Much   \n",
              "\n",
              "  Know_MC                                             Remark  \n",
              "0     Yes                                                NaN  \n",
              "1     NaN                                                NaN  \n",
              "2      No                                                NaN  \n",
              "3      No                                                NaN  \n",
              "4      No  Can not find appropriate candidate. Had to use...  "
            ],
            "text/html": [
              "\n",
              "  <div id=\"df-ab64254b-e5f9-4484-91ab-76ceb18e46d0\">\n",
              "    <div class=\"colab-df-container\">\n",
              "      <div>\n",
              "<style scoped>\n",
              "    .dataframe tbody tr th:only-of-type {\n",
              "        vertical-align: middle;\n",
              "    }\n",
              "\n",
              "    .dataframe tbody tr th {\n",
              "        vertical-align: top;\n",
              "    }\n",
              "\n",
              "    .dataframe thead th {\n",
              "        text-align: right;\n",
              "    }\n",
              "</style>\n",
              "<table border=\"1\" class=\"dataframe\">\n",
              "  <thead>\n",
              "    <tr style=\"text-align: right;\">\n",
              "      <th></th>\n",
              "      <th>Industry</th>\n",
              "      <th>CV_Sorting</th>\n",
              "      <th>Difficult</th>\n",
              "      <th>Contacted</th>\n",
              "      <th>Benefits_AOP</th>\n",
              "      <th>Know_MC</th>\n",
              "      <th>Remark</th>\n",
              "    </tr>\n",
              "  </thead>\n",
              "  <tbody>\n",
              "    <tr>\n",
              "      <th>0</th>\n",
              "      <td>Information Technology (IT)</td>\n",
              "      <td>Bdjobs</td>\n",
              "      <td>No</td>\n",
              "      <td>Yes</td>\n",
              "      <td>Not Much</td>\n",
              "      <td>Yes</td>\n",
              "      <td>NaN</td>\n",
              "    </tr>\n",
              "    <tr>\n",
              "      <th>1</th>\n",
              "      <td>Information Technology (IT)</td>\n",
              "      <td>Bdjobs</td>\n",
              "      <td>NaN</td>\n",
              "      <td>NaN</td>\n",
              "      <td>NaN</td>\n",
              "      <td>NaN</td>\n",
              "      <td>NaN</td>\n",
              "    </tr>\n",
              "    <tr>\n",
              "      <th>2</th>\n",
              "      <td>Information Technology (IT)</td>\n",
              "      <td>Bdjobs</td>\n",
              "      <td>Yes</td>\n",
              "      <td>Yes</td>\n",
              "      <td>Not Much</td>\n",
              "      <td>No</td>\n",
              "      <td>NaN</td>\n",
              "    </tr>\n",
              "    <tr>\n",
              "      <th>3</th>\n",
              "      <td>Garments/ Textile</td>\n",
              "      <td>Manually</td>\n",
              "      <td>Yes</td>\n",
              "      <td>No</td>\n",
              "      <td>Not Much</td>\n",
              "      <td>No</td>\n",
              "      <td>NaN</td>\n",
              "    </tr>\n",
              "    <tr>\n",
              "      <th>4</th>\n",
              "      <td>Information Technology (IT)</td>\n",
              "      <td>Bdjobs</td>\n",
              "      <td>No</td>\n",
              "      <td>Yes</td>\n",
              "      <td>Not Much</td>\n",
              "      <td>No</td>\n",
              "      <td>Can not find appropriate candidate. Had to use...</td>\n",
              "    </tr>\n",
              "  </tbody>\n",
              "</table>\n",
              "</div>\n",
              "      <button class=\"colab-df-convert\" onclick=\"convertToInteractive('df-ab64254b-e5f9-4484-91ab-76ceb18e46d0')\"\n",
              "              title=\"Convert this dataframe to an interactive table.\"\n",
              "              style=\"display:none;\">\n",
              "        \n",
              "  <svg xmlns=\"http://www.w3.org/2000/svg\" height=\"24px\"viewBox=\"0 0 24 24\"\n",
              "       width=\"24px\">\n",
              "    <path d=\"M0 0h24v24H0V0z\" fill=\"none\"/>\n",
              "    <path d=\"M18.56 5.44l.94 2.06.94-2.06 2.06-.94-2.06-.94-.94-2.06-.94 2.06-2.06.94zm-11 1L8.5 8.5l.94-2.06 2.06-.94-2.06-.94L8.5 2.5l-.94 2.06-2.06.94zm10 10l.94 2.06.94-2.06 2.06-.94-2.06-.94-.94-2.06-.94 2.06-2.06.94z\"/><path d=\"M17.41 7.96l-1.37-1.37c-.4-.4-.92-.59-1.43-.59-.52 0-1.04.2-1.43.59L10.3 9.45l-7.72 7.72c-.78.78-.78 2.05 0 2.83L4 21.41c.39.39.9.59 1.41.59.51 0 1.02-.2 1.41-.59l7.78-7.78 2.81-2.81c.8-.78.8-2.07 0-2.86zM5.41 20L4 18.59l7.72-7.72 1.47 1.35L5.41 20z\"/>\n",
              "  </svg>\n",
              "      </button>\n",
              "      \n",
              "  <style>\n",
              "    .colab-df-container {\n",
              "      display:flex;\n",
              "      flex-wrap:wrap;\n",
              "      gap: 12px;\n",
              "    }\n",
              "\n",
              "    .colab-df-convert {\n",
              "      background-color: #E8F0FE;\n",
              "      border: none;\n",
              "      border-radius: 50%;\n",
              "      cursor: pointer;\n",
              "      display: none;\n",
              "      fill: #1967D2;\n",
              "      height: 32px;\n",
              "      padding: 0 0 0 0;\n",
              "      width: 32px;\n",
              "    }\n",
              "\n",
              "    .colab-df-convert:hover {\n",
              "      background-color: #E2EBFA;\n",
              "      box-shadow: 0px 1px 2px rgba(60, 64, 67, 0.3), 0px 1px 3px 1px rgba(60, 64, 67, 0.15);\n",
              "      fill: #174EA6;\n",
              "    }\n",
              "\n",
              "    [theme=dark] .colab-df-convert {\n",
              "      background-color: #3B4455;\n",
              "      fill: #D2E3FC;\n",
              "    }\n",
              "\n",
              "    [theme=dark] .colab-df-convert:hover {\n",
              "      background-color: #434B5C;\n",
              "      box-shadow: 0px 1px 3px 1px rgba(0, 0, 0, 0.15);\n",
              "      filter: drop-shadow(0px 1px 2px rgba(0, 0, 0, 0.3));\n",
              "      fill: #FFFFFF;\n",
              "    }\n",
              "  </style>\n",
              "\n",
              "      <script>\n",
              "        const buttonEl =\n",
              "          document.querySelector('#df-ab64254b-e5f9-4484-91ab-76ceb18e46d0 button.colab-df-convert');\n",
              "        buttonEl.style.display =\n",
              "          google.colab.kernel.accessAllowed ? 'block' : 'none';\n",
              "\n",
              "        async function convertToInteractive(key) {\n",
              "          const element = document.querySelector('#df-ab64254b-e5f9-4484-91ab-76ceb18e46d0');\n",
              "          const dataTable =\n",
              "            await google.colab.kernel.invokeFunction('convertToInteractive',\n",
              "                                                     [key], {});\n",
              "          if (!dataTable) return;\n",
              "\n",
              "          const docLinkHtml = 'Like what you see? Visit the ' +\n",
              "            '<a target=\"_blank\" href=https://colab.research.google.com/notebooks/data_table.ipynb>data table notebook</a>'\n",
              "            + ' to learn more about interactive tables.';\n",
              "          element.innerHTML = '';\n",
              "          dataTable['output_type'] = 'display_data';\n",
              "          await google.colab.output.renderOutput(dataTable, element);\n",
              "          const docLink = document.createElement('div');\n",
              "          docLink.innerHTML = docLinkHtml;\n",
              "          element.appendChild(docLink);\n",
              "        }\n",
              "      </script>\n",
              "    </div>\n",
              "  </div>\n",
              "  "
            ]
          },
          "metadata": {},
          "execution_count": 88
        }
      ]
    },
    {
      "cell_type": "code",
      "source": [
        "small=small.dropna(thresh=2)"
      ],
      "metadata": {
        "id": "x4rJ5j3ODWak"
      },
      "execution_count": 89,
      "outputs": []
    },
    {
      "cell_type": "code",
      "source": [
        "small['Size']='Small'"
      ],
      "metadata": {
        "id": "M8CYqStoDp3Y"
      },
      "execution_count": 90,
      "outputs": []
    },
    {
      "cell_type": "code",
      "source": [
        "small.head()"
      ],
      "metadata": {
        "colab": {
          "base_uri": "https://localhost:8080/",
          "height": 206
        },
        "id": "fBssMbgXEiSg",
        "outputId": "292e7762-a982-4b57-c74c-47f61c2d3e3a"
      },
      "execution_count": 91,
      "outputs": [
        {
          "output_type": "execute_result",
          "data": {
            "text/plain": [
              "                      Industry CV_Sorting Difficult Contacted Benefits_AOP  \\\n",
              "0  Information Technology (IT)     Bdjobs        No       Yes     Not Much   \n",
              "1  Information Technology (IT)     Bdjobs       NaN       NaN          NaN   \n",
              "2  Information Technology (IT)     Bdjobs       Yes       Yes     Not Much   \n",
              "3            Garments/ Textile   Manually       Yes        No     Not Much   \n",
              "4  Information Technology (IT)     Bdjobs        No       Yes     Not Much   \n",
              "\n",
              "  Know_MC                                             Remark   Size  \n",
              "0     Yes                                                NaN  Small  \n",
              "1     NaN                                                NaN  Small  \n",
              "2      No                                                NaN  Small  \n",
              "3      No                                                NaN  Small  \n",
              "4      No  Can not find appropriate candidate. Had to use...  Small  "
            ],
            "text/html": [
              "\n",
              "  <div id=\"df-5490cbb9-7974-40a9-aa84-311cb5f052cb\">\n",
              "    <div class=\"colab-df-container\">\n",
              "      <div>\n",
              "<style scoped>\n",
              "    .dataframe tbody tr th:only-of-type {\n",
              "        vertical-align: middle;\n",
              "    }\n",
              "\n",
              "    .dataframe tbody tr th {\n",
              "        vertical-align: top;\n",
              "    }\n",
              "\n",
              "    .dataframe thead th {\n",
              "        text-align: right;\n",
              "    }\n",
              "</style>\n",
              "<table border=\"1\" class=\"dataframe\">\n",
              "  <thead>\n",
              "    <tr style=\"text-align: right;\">\n",
              "      <th></th>\n",
              "      <th>Industry</th>\n",
              "      <th>CV_Sorting</th>\n",
              "      <th>Difficult</th>\n",
              "      <th>Contacted</th>\n",
              "      <th>Benefits_AOP</th>\n",
              "      <th>Know_MC</th>\n",
              "      <th>Remark</th>\n",
              "      <th>Size</th>\n",
              "    </tr>\n",
              "  </thead>\n",
              "  <tbody>\n",
              "    <tr>\n",
              "      <th>0</th>\n",
              "      <td>Information Technology (IT)</td>\n",
              "      <td>Bdjobs</td>\n",
              "      <td>No</td>\n",
              "      <td>Yes</td>\n",
              "      <td>Not Much</td>\n",
              "      <td>Yes</td>\n",
              "      <td>NaN</td>\n",
              "      <td>Small</td>\n",
              "    </tr>\n",
              "    <tr>\n",
              "      <th>1</th>\n",
              "      <td>Information Technology (IT)</td>\n",
              "      <td>Bdjobs</td>\n",
              "      <td>NaN</td>\n",
              "      <td>NaN</td>\n",
              "      <td>NaN</td>\n",
              "      <td>NaN</td>\n",
              "      <td>NaN</td>\n",
              "      <td>Small</td>\n",
              "    </tr>\n",
              "    <tr>\n",
              "      <th>2</th>\n",
              "      <td>Information Technology (IT)</td>\n",
              "      <td>Bdjobs</td>\n",
              "      <td>Yes</td>\n",
              "      <td>Yes</td>\n",
              "      <td>Not Much</td>\n",
              "      <td>No</td>\n",
              "      <td>NaN</td>\n",
              "      <td>Small</td>\n",
              "    </tr>\n",
              "    <tr>\n",
              "      <th>3</th>\n",
              "      <td>Garments/ Textile</td>\n",
              "      <td>Manually</td>\n",
              "      <td>Yes</td>\n",
              "      <td>No</td>\n",
              "      <td>Not Much</td>\n",
              "      <td>No</td>\n",
              "      <td>NaN</td>\n",
              "      <td>Small</td>\n",
              "    </tr>\n",
              "    <tr>\n",
              "      <th>4</th>\n",
              "      <td>Information Technology (IT)</td>\n",
              "      <td>Bdjobs</td>\n",
              "      <td>No</td>\n",
              "      <td>Yes</td>\n",
              "      <td>Not Much</td>\n",
              "      <td>No</td>\n",
              "      <td>Can not find appropriate candidate. Had to use...</td>\n",
              "      <td>Small</td>\n",
              "    </tr>\n",
              "  </tbody>\n",
              "</table>\n",
              "</div>\n",
              "      <button class=\"colab-df-convert\" onclick=\"convertToInteractive('df-5490cbb9-7974-40a9-aa84-311cb5f052cb')\"\n",
              "              title=\"Convert this dataframe to an interactive table.\"\n",
              "              style=\"display:none;\">\n",
              "        \n",
              "  <svg xmlns=\"http://www.w3.org/2000/svg\" height=\"24px\"viewBox=\"0 0 24 24\"\n",
              "       width=\"24px\">\n",
              "    <path d=\"M0 0h24v24H0V0z\" fill=\"none\"/>\n",
              "    <path d=\"M18.56 5.44l.94 2.06.94-2.06 2.06-.94-2.06-.94-.94-2.06-.94 2.06-2.06.94zm-11 1L8.5 8.5l.94-2.06 2.06-.94-2.06-.94L8.5 2.5l-.94 2.06-2.06.94zm10 10l.94 2.06.94-2.06 2.06-.94-2.06-.94-.94-2.06-.94 2.06-2.06.94z\"/><path d=\"M17.41 7.96l-1.37-1.37c-.4-.4-.92-.59-1.43-.59-.52 0-1.04.2-1.43.59L10.3 9.45l-7.72 7.72c-.78.78-.78 2.05 0 2.83L4 21.41c.39.39.9.59 1.41.59.51 0 1.02-.2 1.41-.59l7.78-7.78 2.81-2.81c.8-.78.8-2.07 0-2.86zM5.41 20L4 18.59l7.72-7.72 1.47 1.35L5.41 20z\"/>\n",
              "  </svg>\n",
              "      </button>\n",
              "      \n",
              "  <style>\n",
              "    .colab-df-container {\n",
              "      display:flex;\n",
              "      flex-wrap:wrap;\n",
              "      gap: 12px;\n",
              "    }\n",
              "\n",
              "    .colab-df-convert {\n",
              "      background-color: #E8F0FE;\n",
              "      border: none;\n",
              "      border-radius: 50%;\n",
              "      cursor: pointer;\n",
              "      display: none;\n",
              "      fill: #1967D2;\n",
              "      height: 32px;\n",
              "      padding: 0 0 0 0;\n",
              "      width: 32px;\n",
              "    }\n",
              "\n",
              "    .colab-df-convert:hover {\n",
              "      background-color: #E2EBFA;\n",
              "      box-shadow: 0px 1px 2px rgba(60, 64, 67, 0.3), 0px 1px 3px 1px rgba(60, 64, 67, 0.15);\n",
              "      fill: #174EA6;\n",
              "    }\n",
              "\n",
              "    [theme=dark] .colab-df-convert {\n",
              "      background-color: #3B4455;\n",
              "      fill: #D2E3FC;\n",
              "    }\n",
              "\n",
              "    [theme=dark] .colab-df-convert:hover {\n",
              "      background-color: #434B5C;\n",
              "      box-shadow: 0px 1px 3px 1px rgba(0, 0, 0, 0.15);\n",
              "      filter: drop-shadow(0px 1px 2px rgba(0, 0, 0, 0.3));\n",
              "      fill: #FFFFFF;\n",
              "    }\n",
              "  </style>\n",
              "\n",
              "      <script>\n",
              "        const buttonEl =\n",
              "          document.querySelector('#df-5490cbb9-7974-40a9-aa84-311cb5f052cb button.colab-df-convert');\n",
              "        buttonEl.style.display =\n",
              "          google.colab.kernel.accessAllowed ? 'block' : 'none';\n",
              "\n",
              "        async function convertToInteractive(key) {\n",
              "          const element = document.querySelector('#df-5490cbb9-7974-40a9-aa84-311cb5f052cb');\n",
              "          const dataTable =\n",
              "            await google.colab.kernel.invokeFunction('convertToInteractive',\n",
              "                                                     [key], {});\n",
              "          if (!dataTable) return;\n",
              "\n",
              "          const docLinkHtml = 'Like what you see? Visit the ' +\n",
              "            '<a target=\"_blank\" href=https://colab.research.google.com/notebooks/data_table.ipynb>data table notebook</a>'\n",
              "            + ' to learn more about interactive tables.';\n",
              "          element.innerHTML = '';\n",
              "          dataTable['output_type'] = 'display_data';\n",
              "          await google.colab.output.renderOutput(dataTable, element);\n",
              "          const docLink = document.createElement('div');\n",
              "          docLink.innerHTML = docLinkHtml;\n",
              "          element.appendChild(docLink);\n",
              "        }\n",
              "      </script>\n",
              "    </div>\n",
              "  </div>\n",
              "  "
            ]
          },
          "metadata": {},
          "execution_count": 91
        }
      ]
    },
    {
      "cell_type": "code",
      "source": [
        "big=pd.read_csv('/content/AO Related Survey - Big Companies (1).csv')\n",
        "medium=pd.read_csv('/content/AO Related Survey - Medium Companies (1).csv')"
      ],
      "metadata": {
        "id": "eiR4bMKREn0N"
      },
      "execution_count": 92,
      "outputs": []
    },
    {
      "cell_type": "code",
      "source": [
        "big=big.dropna(thresh=2)\n",
        "medium=medium.dropna(thresh=2)"
      ],
      "metadata": {
        "id": "Wtr4M0LdFw29"
      },
      "execution_count": 93,
      "outputs": []
    },
    {
      "cell_type": "code",
      "source": [
        "medium['Size']='Medium'\n",
        "big['Size']='Big'"
      ],
      "metadata": {
        "id": "QmCu9dhVF0Kx"
      },
      "execution_count": 94,
      "outputs": []
    },
    {
      "cell_type": "code",
      "source": [
        "all=pd.concat([small,medium,big])"
      ],
      "metadata": {
        "id": "58tDEWCpGMIz"
      },
      "execution_count": 95,
      "outputs": []
    },
    {
      "cell_type": "code",
      "source": [
        "all.info()"
      ],
      "metadata": {
        "colab": {
          "base_uri": "https://localhost:8080/"
        },
        "id": "YWPCDVc1Gjqb",
        "outputId": "3a09f22d-2115-472c-c20b-3f919ee6c077"
      },
      "execution_count": 96,
      "outputs": [
        {
          "output_type": "stream",
          "name": "stdout",
          "text": [
            "<class 'pandas.core.frame.DataFrame'>\n",
            "Int64Index: 82 entries, 0 to 140\n",
            "Data columns (total 9 columns):\n",
            " #   Column        Non-Null Count  Dtype \n",
            "---  ------        --------------  ----- \n",
            " 0   Industry      82 non-null     object\n",
            " 1   CV_Sorting    81 non-null     object\n",
            " 2   Difficult     75 non-null     object\n",
            " 3   Contacted     70 non-null     object\n",
            " 4   Benefits_AOP  64 non-null     object\n",
            " 5   Know_MC       67 non-null     object\n",
            " 6   Remark        25 non-null     object\n",
            " 7   Size          82 non-null     object\n",
            " 8   Remarks       4 non-null      object\n",
            "dtypes: object(9)\n",
            "memory usage: 6.4+ KB\n"
          ]
        }
      ]
    },
    {
      "cell_type": "code",
      "source": [
        "len(big)+len(medium)+len(small)"
      ],
      "metadata": {
        "colab": {
          "base_uri": "https://localhost:8080/"
        },
        "id": "sDkAxrlwGlWQ",
        "outputId": "0307ca1d-f0aa-47d0-b4c1-ed0de958f033"
      },
      "execution_count": 97,
      "outputs": [
        {
          "output_type": "execute_result",
          "data": {
            "text/plain": [
              "82"
            ]
          },
          "metadata": {},
          "execution_count": 97
        }
      ]
    },
    {
      "cell_type": "code",
      "source": [
        "all.reset_index(inplace=True)"
      ],
      "metadata": {
        "id": "lkPBah6QHmq5"
      },
      "execution_count": 98,
      "outputs": []
    },
    {
      "cell_type": "code",
      "source": [
        "all[all['Remarks'].notnull()]"
      ],
      "metadata": {
        "colab": {
          "base_uri": "https://localhost:8080/",
          "height": 175
        },
        "id": "ULGf9EUiGoz9",
        "outputId": "3dafe0b1-4fd7-45f1-e554-602fc94b628c"
      },
      "execution_count": 99,
      "outputs": [
        {
          "output_type": "execute_result",
          "data": {
            "text/plain": [
              "    index                         Industry CV_Sorting Difficult Contacted  \\\n",
              "33      7      Hospital/ Diagnostic Center   Manually        No        No   \n",
              "34      8   Manufacturing (Heavy Industry)     Bdjobs        No       Yes   \n",
              "36     19                Garments/ Textile     Bdjobs        No       Yes   \n",
              "42    130  Bank/ Non-Bank Fin. Institution     Bdjobs        No       Yes   \n",
              "\n",
              "   Benefits_AOP Know_MC Remark    Size  \\\n",
              "33          Yes      No    NaN  Medium   \n",
              "34           No     Yes    NaN  Medium   \n",
              "36   Preference      No    NaN  Medium   \n",
              "42           No     Yes    NaN  Medium   \n",
              "\n",
              "                                              Remarks  \n",
              "33  Totally mis-communication, thinks AO is paid a...  \n",
              "34  Lower number of applicants for blue collar job...  \n",
              "36  Needs to be contacted in regard of new service...  \n",
              "42  more customized barrier, can get right applica...  "
            ],
            "text/html": [
              "\n",
              "  <div id=\"df-82575eb8-6f37-4c89-987c-c23a9a883f14\">\n",
              "    <div class=\"colab-df-container\">\n",
              "      <div>\n",
              "<style scoped>\n",
              "    .dataframe tbody tr th:only-of-type {\n",
              "        vertical-align: middle;\n",
              "    }\n",
              "\n",
              "    .dataframe tbody tr th {\n",
              "        vertical-align: top;\n",
              "    }\n",
              "\n",
              "    .dataframe thead th {\n",
              "        text-align: right;\n",
              "    }\n",
              "</style>\n",
              "<table border=\"1\" class=\"dataframe\">\n",
              "  <thead>\n",
              "    <tr style=\"text-align: right;\">\n",
              "      <th></th>\n",
              "      <th>index</th>\n",
              "      <th>Industry</th>\n",
              "      <th>CV_Sorting</th>\n",
              "      <th>Difficult</th>\n",
              "      <th>Contacted</th>\n",
              "      <th>Benefits_AOP</th>\n",
              "      <th>Know_MC</th>\n",
              "      <th>Remark</th>\n",
              "      <th>Size</th>\n",
              "      <th>Remarks</th>\n",
              "    </tr>\n",
              "  </thead>\n",
              "  <tbody>\n",
              "    <tr>\n",
              "      <th>33</th>\n",
              "      <td>7</td>\n",
              "      <td>Hospital/ Diagnostic Center</td>\n",
              "      <td>Manually</td>\n",
              "      <td>No</td>\n",
              "      <td>No</td>\n",
              "      <td>Yes</td>\n",
              "      <td>No</td>\n",
              "      <td>NaN</td>\n",
              "      <td>Medium</td>\n",
              "      <td>Totally mis-communication, thinks AO is paid a...</td>\n",
              "    </tr>\n",
              "    <tr>\n",
              "      <th>34</th>\n",
              "      <td>8</td>\n",
              "      <td>Manufacturing (Heavy Industry)</td>\n",
              "      <td>Bdjobs</td>\n",
              "      <td>No</td>\n",
              "      <td>Yes</td>\n",
              "      <td>No</td>\n",
              "      <td>Yes</td>\n",
              "      <td>NaN</td>\n",
              "      <td>Medium</td>\n",
              "      <td>Lower number of applicants for blue collar job...</td>\n",
              "    </tr>\n",
              "    <tr>\n",
              "      <th>36</th>\n",
              "      <td>19</td>\n",
              "      <td>Garments/ Textile</td>\n",
              "      <td>Bdjobs</td>\n",
              "      <td>No</td>\n",
              "      <td>Yes</td>\n",
              "      <td>Preference</td>\n",
              "      <td>No</td>\n",
              "      <td>NaN</td>\n",
              "      <td>Medium</td>\n",
              "      <td>Needs to be contacted in regard of new service...</td>\n",
              "    </tr>\n",
              "    <tr>\n",
              "      <th>42</th>\n",
              "      <td>130</td>\n",
              "      <td>Bank/ Non-Bank Fin. Institution</td>\n",
              "      <td>Bdjobs</td>\n",
              "      <td>No</td>\n",
              "      <td>Yes</td>\n",
              "      <td>No</td>\n",
              "      <td>Yes</td>\n",
              "      <td>NaN</td>\n",
              "      <td>Medium</td>\n",
              "      <td>more customized barrier, can get right applica...</td>\n",
              "    </tr>\n",
              "  </tbody>\n",
              "</table>\n",
              "</div>\n",
              "      <button class=\"colab-df-convert\" onclick=\"convertToInteractive('df-82575eb8-6f37-4c89-987c-c23a9a883f14')\"\n",
              "              title=\"Convert this dataframe to an interactive table.\"\n",
              "              style=\"display:none;\">\n",
              "        \n",
              "  <svg xmlns=\"http://www.w3.org/2000/svg\" height=\"24px\"viewBox=\"0 0 24 24\"\n",
              "       width=\"24px\">\n",
              "    <path d=\"M0 0h24v24H0V0z\" fill=\"none\"/>\n",
              "    <path d=\"M18.56 5.44l.94 2.06.94-2.06 2.06-.94-2.06-.94-.94-2.06-.94 2.06-2.06.94zm-11 1L8.5 8.5l.94-2.06 2.06-.94-2.06-.94L8.5 2.5l-.94 2.06-2.06.94zm10 10l.94 2.06.94-2.06 2.06-.94-2.06-.94-.94-2.06-.94 2.06-2.06.94z\"/><path d=\"M17.41 7.96l-1.37-1.37c-.4-.4-.92-.59-1.43-.59-.52 0-1.04.2-1.43.59L10.3 9.45l-7.72 7.72c-.78.78-.78 2.05 0 2.83L4 21.41c.39.39.9.59 1.41.59.51 0 1.02-.2 1.41-.59l7.78-7.78 2.81-2.81c.8-.78.8-2.07 0-2.86zM5.41 20L4 18.59l7.72-7.72 1.47 1.35L5.41 20z\"/>\n",
              "  </svg>\n",
              "      </button>\n",
              "      \n",
              "  <style>\n",
              "    .colab-df-container {\n",
              "      display:flex;\n",
              "      flex-wrap:wrap;\n",
              "      gap: 12px;\n",
              "    }\n",
              "\n",
              "    .colab-df-convert {\n",
              "      background-color: #E8F0FE;\n",
              "      border: none;\n",
              "      border-radius: 50%;\n",
              "      cursor: pointer;\n",
              "      display: none;\n",
              "      fill: #1967D2;\n",
              "      height: 32px;\n",
              "      padding: 0 0 0 0;\n",
              "      width: 32px;\n",
              "    }\n",
              "\n",
              "    .colab-df-convert:hover {\n",
              "      background-color: #E2EBFA;\n",
              "      box-shadow: 0px 1px 2px rgba(60, 64, 67, 0.3), 0px 1px 3px 1px rgba(60, 64, 67, 0.15);\n",
              "      fill: #174EA6;\n",
              "    }\n",
              "\n",
              "    [theme=dark] .colab-df-convert {\n",
              "      background-color: #3B4455;\n",
              "      fill: #D2E3FC;\n",
              "    }\n",
              "\n",
              "    [theme=dark] .colab-df-convert:hover {\n",
              "      background-color: #434B5C;\n",
              "      box-shadow: 0px 1px 3px 1px rgba(0, 0, 0, 0.15);\n",
              "      filter: drop-shadow(0px 1px 2px rgba(0, 0, 0, 0.3));\n",
              "      fill: #FFFFFF;\n",
              "    }\n",
              "  </style>\n",
              "\n",
              "      <script>\n",
              "        const buttonEl =\n",
              "          document.querySelector('#df-82575eb8-6f37-4c89-987c-c23a9a883f14 button.colab-df-convert');\n",
              "        buttonEl.style.display =\n",
              "          google.colab.kernel.accessAllowed ? 'block' : 'none';\n",
              "\n",
              "        async function convertToInteractive(key) {\n",
              "          const element = document.querySelector('#df-82575eb8-6f37-4c89-987c-c23a9a883f14');\n",
              "          const dataTable =\n",
              "            await google.colab.kernel.invokeFunction('convertToInteractive',\n",
              "                                                     [key], {});\n",
              "          if (!dataTable) return;\n",
              "\n",
              "          const docLinkHtml = 'Like what you see? Visit the ' +\n",
              "            '<a target=\"_blank\" href=https://colab.research.google.com/notebooks/data_table.ipynb>data table notebook</a>'\n",
              "            + ' to learn more about interactive tables.';\n",
              "          element.innerHTML = '';\n",
              "          dataTable['output_type'] = 'display_data';\n",
              "          await google.colab.output.renderOutput(dataTable, element);\n",
              "          const docLink = document.createElement('div');\n",
              "          docLink.innerHTML = docLinkHtml;\n",
              "          element.appendChild(docLink);\n",
              "        }\n",
              "      </script>\n",
              "    </div>\n",
              "  </div>\n",
              "  "
            ]
          },
          "metadata": {},
          "execution_count": 99
        }
      ]
    },
    {
      "cell_type": "code",
      "source": [
        "all.loc[33, 'Remark'] = all.iloc[33]['Remarks']"
      ],
      "metadata": {
        "id": "ceNmjJaaHIQu"
      },
      "execution_count": 100,
      "outputs": []
    },
    {
      "cell_type": "code",
      "source": [
        "all.loc[34, 'Remark'] = all.iloc[34]['Remarks']\n",
        "all.loc[36, 'Remark'] = all.iloc[36]['Remarks']\n",
        "all.loc[42, 'Remark'] = all.iloc[42]['Remarks']"
      ],
      "metadata": {
        "id": "ioJvvNGyIc7x"
      },
      "execution_count": 101,
      "outputs": []
    },
    {
      "cell_type": "code",
      "source": [
        "all.iloc[42]"
      ],
      "metadata": {
        "colab": {
          "base_uri": "https://localhost:8080/"
        },
        "id": "i_lPq8Y-Hf0S",
        "outputId": "d7cb4433-409f-4428-c9da-6b17f395d155"
      },
      "execution_count": 102,
      "outputs": [
        {
          "output_type": "execute_result",
          "data": {
            "text/plain": [
              "index                                                         130\n",
              "Industry                          Bank/ Non-Bank Fin. Institution\n",
              "CV_Sorting                                                 Bdjobs\n",
              "Difficult                                                      No\n",
              "Contacted                                                     Yes\n",
              "Benefits_AOP                                                   No\n",
              "Know_MC                                                       Yes\n",
              "Remark          more customized barrier, can get right applica...\n",
              "Size                                                       Medium\n",
              "Remarks         more customized barrier, can get right applica...\n",
              "Name: 42, dtype: object"
            ]
          },
          "metadata": {},
          "execution_count": 102
        }
      ]
    },
    {
      "cell_type": "code",
      "source": [
        "all.drop(['Remarks'],axis=1,inplace=True)"
      ],
      "metadata": {
        "id": "A-6rIQ7_IwfT"
      },
      "execution_count": 103,
      "outputs": []
    },
    {
      "cell_type": "code",
      "source": [
        "all.head()"
      ],
      "metadata": {
        "colab": {
          "base_uri": "https://localhost:8080/",
          "height": 206
        },
        "id": "KVpWEKR6I0VZ",
        "outputId": "321c78ee-b120-4575-c994-94109c189fa8"
      },
      "execution_count": 104,
      "outputs": [
        {
          "output_type": "execute_result",
          "data": {
            "text/plain": [
              "   index                     Industry CV_Sorting Difficult Contacted  \\\n",
              "0      0  Information Technology (IT)     Bdjobs        No       Yes   \n",
              "1      1  Information Technology (IT)     Bdjobs       NaN       NaN   \n",
              "2      2  Information Technology (IT)     Bdjobs       Yes       Yes   \n",
              "3      3            Garments/ Textile   Manually       Yes        No   \n",
              "4      4  Information Technology (IT)     Bdjobs        No       Yes   \n",
              "\n",
              "  Benefits_AOP Know_MC                                             Remark  \\\n",
              "0     Not Much     Yes                                                NaN   \n",
              "1          NaN     NaN                                                NaN   \n",
              "2     Not Much      No                                                NaN   \n",
              "3     Not Much      No                                                NaN   \n",
              "4     Not Much      No  Can not find appropriate candidate. Had to use...   \n",
              "\n",
              "    Size  \n",
              "0  Small  \n",
              "1  Small  \n",
              "2  Small  \n",
              "3  Small  \n",
              "4  Small  "
            ],
            "text/html": [
              "\n",
              "  <div id=\"df-48f07368-b61e-412e-8b38-0fa010778635\">\n",
              "    <div class=\"colab-df-container\">\n",
              "      <div>\n",
              "<style scoped>\n",
              "    .dataframe tbody tr th:only-of-type {\n",
              "        vertical-align: middle;\n",
              "    }\n",
              "\n",
              "    .dataframe tbody tr th {\n",
              "        vertical-align: top;\n",
              "    }\n",
              "\n",
              "    .dataframe thead th {\n",
              "        text-align: right;\n",
              "    }\n",
              "</style>\n",
              "<table border=\"1\" class=\"dataframe\">\n",
              "  <thead>\n",
              "    <tr style=\"text-align: right;\">\n",
              "      <th></th>\n",
              "      <th>index</th>\n",
              "      <th>Industry</th>\n",
              "      <th>CV_Sorting</th>\n",
              "      <th>Difficult</th>\n",
              "      <th>Contacted</th>\n",
              "      <th>Benefits_AOP</th>\n",
              "      <th>Know_MC</th>\n",
              "      <th>Remark</th>\n",
              "      <th>Size</th>\n",
              "    </tr>\n",
              "  </thead>\n",
              "  <tbody>\n",
              "    <tr>\n",
              "      <th>0</th>\n",
              "      <td>0</td>\n",
              "      <td>Information Technology (IT)</td>\n",
              "      <td>Bdjobs</td>\n",
              "      <td>No</td>\n",
              "      <td>Yes</td>\n",
              "      <td>Not Much</td>\n",
              "      <td>Yes</td>\n",
              "      <td>NaN</td>\n",
              "      <td>Small</td>\n",
              "    </tr>\n",
              "    <tr>\n",
              "      <th>1</th>\n",
              "      <td>1</td>\n",
              "      <td>Information Technology (IT)</td>\n",
              "      <td>Bdjobs</td>\n",
              "      <td>NaN</td>\n",
              "      <td>NaN</td>\n",
              "      <td>NaN</td>\n",
              "      <td>NaN</td>\n",
              "      <td>NaN</td>\n",
              "      <td>Small</td>\n",
              "    </tr>\n",
              "    <tr>\n",
              "      <th>2</th>\n",
              "      <td>2</td>\n",
              "      <td>Information Technology (IT)</td>\n",
              "      <td>Bdjobs</td>\n",
              "      <td>Yes</td>\n",
              "      <td>Yes</td>\n",
              "      <td>Not Much</td>\n",
              "      <td>No</td>\n",
              "      <td>NaN</td>\n",
              "      <td>Small</td>\n",
              "    </tr>\n",
              "    <tr>\n",
              "      <th>3</th>\n",
              "      <td>3</td>\n",
              "      <td>Garments/ Textile</td>\n",
              "      <td>Manually</td>\n",
              "      <td>Yes</td>\n",
              "      <td>No</td>\n",
              "      <td>Not Much</td>\n",
              "      <td>No</td>\n",
              "      <td>NaN</td>\n",
              "      <td>Small</td>\n",
              "    </tr>\n",
              "    <tr>\n",
              "      <th>4</th>\n",
              "      <td>4</td>\n",
              "      <td>Information Technology (IT)</td>\n",
              "      <td>Bdjobs</td>\n",
              "      <td>No</td>\n",
              "      <td>Yes</td>\n",
              "      <td>Not Much</td>\n",
              "      <td>No</td>\n",
              "      <td>Can not find appropriate candidate. Had to use...</td>\n",
              "      <td>Small</td>\n",
              "    </tr>\n",
              "  </tbody>\n",
              "</table>\n",
              "</div>\n",
              "      <button class=\"colab-df-convert\" onclick=\"convertToInteractive('df-48f07368-b61e-412e-8b38-0fa010778635')\"\n",
              "              title=\"Convert this dataframe to an interactive table.\"\n",
              "              style=\"display:none;\">\n",
              "        \n",
              "  <svg xmlns=\"http://www.w3.org/2000/svg\" height=\"24px\"viewBox=\"0 0 24 24\"\n",
              "       width=\"24px\">\n",
              "    <path d=\"M0 0h24v24H0V0z\" fill=\"none\"/>\n",
              "    <path d=\"M18.56 5.44l.94 2.06.94-2.06 2.06-.94-2.06-.94-.94-2.06-.94 2.06-2.06.94zm-11 1L8.5 8.5l.94-2.06 2.06-.94-2.06-.94L8.5 2.5l-.94 2.06-2.06.94zm10 10l.94 2.06.94-2.06 2.06-.94-2.06-.94-.94-2.06-.94 2.06-2.06.94z\"/><path d=\"M17.41 7.96l-1.37-1.37c-.4-.4-.92-.59-1.43-.59-.52 0-1.04.2-1.43.59L10.3 9.45l-7.72 7.72c-.78.78-.78 2.05 0 2.83L4 21.41c.39.39.9.59 1.41.59.51 0 1.02-.2 1.41-.59l7.78-7.78 2.81-2.81c.8-.78.8-2.07 0-2.86zM5.41 20L4 18.59l7.72-7.72 1.47 1.35L5.41 20z\"/>\n",
              "  </svg>\n",
              "      </button>\n",
              "      \n",
              "  <style>\n",
              "    .colab-df-container {\n",
              "      display:flex;\n",
              "      flex-wrap:wrap;\n",
              "      gap: 12px;\n",
              "    }\n",
              "\n",
              "    .colab-df-convert {\n",
              "      background-color: #E8F0FE;\n",
              "      border: none;\n",
              "      border-radius: 50%;\n",
              "      cursor: pointer;\n",
              "      display: none;\n",
              "      fill: #1967D2;\n",
              "      height: 32px;\n",
              "      padding: 0 0 0 0;\n",
              "      width: 32px;\n",
              "    }\n",
              "\n",
              "    .colab-df-convert:hover {\n",
              "      background-color: #E2EBFA;\n",
              "      box-shadow: 0px 1px 2px rgba(60, 64, 67, 0.3), 0px 1px 3px 1px rgba(60, 64, 67, 0.15);\n",
              "      fill: #174EA6;\n",
              "    }\n",
              "\n",
              "    [theme=dark] .colab-df-convert {\n",
              "      background-color: #3B4455;\n",
              "      fill: #D2E3FC;\n",
              "    }\n",
              "\n",
              "    [theme=dark] .colab-df-convert:hover {\n",
              "      background-color: #434B5C;\n",
              "      box-shadow: 0px 1px 3px 1px rgba(0, 0, 0, 0.15);\n",
              "      filter: drop-shadow(0px 1px 2px rgba(0, 0, 0, 0.3));\n",
              "      fill: #FFFFFF;\n",
              "    }\n",
              "  </style>\n",
              "\n",
              "      <script>\n",
              "        const buttonEl =\n",
              "          document.querySelector('#df-48f07368-b61e-412e-8b38-0fa010778635 button.colab-df-convert');\n",
              "        buttonEl.style.display =\n",
              "          google.colab.kernel.accessAllowed ? 'block' : 'none';\n",
              "\n",
              "        async function convertToInteractive(key) {\n",
              "          const element = document.querySelector('#df-48f07368-b61e-412e-8b38-0fa010778635');\n",
              "          const dataTable =\n",
              "            await google.colab.kernel.invokeFunction('convertToInteractive',\n",
              "                                                     [key], {});\n",
              "          if (!dataTable) return;\n",
              "\n",
              "          const docLinkHtml = 'Like what you see? Visit the ' +\n",
              "            '<a target=\"_blank\" href=https://colab.research.google.com/notebooks/data_table.ipynb>data table notebook</a>'\n",
              "            + ' to learn more about interactive tables.';\n",
              "          element.innerHTML = '';\n",
              "          dataTable['output_type'] = 'display_data';\n",
              "          await google.colab.output.renderOutput(dataTable, element);\n",
              "          const docLink = document.createElement('div');\n",
              "          docLink.innerHTML = docLinkHtml;\n",
              "          element.appendChild(docLink);\n",
              "        }\n",
              "      </script>\n",
              "    </div>\n",
              "  </div>\n",
              "  "
            ]
          },
          "metadata": {},
          "execution_count": 104
        }
      ]
    },
    {
      "cell_type": "code",
      "source": [
        "all['Remark'].value_counts()"
      ],
      "metadata": {
        "colab": {
          "base_uri": "https://localhost:8080/"
        },
        "id": "uGZunBXWI6Cc",
        "outputId": "54b86327-608b-4664-957c-773722d10cbe"
      },
      "execution_count": 105,
      "outputs": [
        {
          "output_type": "execute_result",
          "data": {
            "text/plain": [
              "Non-serious candidates, candidate review system                                                                                                     2\n",
              "more customized barrier, can get right applicants to apply                                                                                          2\n",
              "Can not find appropriate candidate. Had to use other sources because of reduced number of applicants.                                               1\n",
              "Totally mis-communication, thinks AO is paid and bdjobs resume is not as updated as customized cv.                                                  1\n",
              "matching is easy to sort, less irrelevant applications                                                                                              1\n",
              "matching is not effective                                                                                                                           1\n",
              "matching is useless                                                                                                                                 1\n",
              "this is very basic not that advanced but initial sorting can be done                                                                                1\n",
              "Our question is confedential so cant take it and for matching it is not relevant                                                                    1\n",
              "It's not accurate and relevant experience is more accurate                                                                                          1\n",
              "matching should improve                                                                                                                             1\n",
              "less irrelevant cvs                                                                                                                                 1\n",
              "Needs to be contacted in regard of new services, interested to try out new features. Just to avail all the option for users                         1\n",
              "Lower number of applicants for blue collar jobs, server loading time issue, login page ad issue. NAO for blue collar hiring.                        1\n",
              "Sales Team didn't tell                                                                                                                              1\n",
              "Price increased, now using paper advertisement. Now our portal has become harder to navigate.                                                       1\n",
              "Need a penalty for applying without reading the JD.                                                                                                 1\n",
              "Will try the online test feature, didn't know about it                                                                                              1\n",
              "Keyword search,match merchandising CV , Woven cotton etc                                                                                            1\n",
              "Matching should be improved a lot, and keywords should be made efficient. Non-serious candidates. Also the candidate review system by employer.     1\n",
              "Regional contact persons numbers should be made available in the site.                                                                              1\n",
              "Physical CV droppers are serious, Online applicants not showing in physical interview.                                                              1\n",
              "Physical CV droppers are serious, Online applicants not showing up in physical interview.                                                           1\n",
              "Lack of serious candidates. Not enough candidates attending physical interview.                                                                     1\n",
              "Just to store cv, not much use of email                                                                                                             1\n",
              "A notification system from LinkedIn to notify the rejected candidates. Now uses LinkedIn.                                                           1\n",
              "Need more suggestive approach ,                                                                                                                     1\n",
              "Name: Remark, dtype: int64"
            ]
          },
          "metadata": {},
          "execution_count": 105
        }
      ]
    },
    {
      "cell_type": "code",
      "source": [
        "all.groupby('Size')['Difficult'].value_counts()"
      ],
      "metadata": {
        "colab": {
          "base_uri": "https://localhost:8080/"
        },
        "id": "s4dG7Ce2I-9A",
        "outputId": "3dbd6155-b46a-404c-eb92-25c046e99f4d"
      },
      "execution_count": 106,
      "outputs": [
        {
          "output_type": "execute_result",
          "data": {
            "text/plain": [
              "Size    Difficult   \n",
              "Big     no              15\n",
              "        yes              8\n",
              "        No               3\n",
              "        Confidential     1\n",
              "        Yes              1\n",
              "Medium  No              18\n",
              "        no               3\n",
              "Small   No              23\n",
              "        Yes              3\n",
              "Name: Difficult, dtype: int64"
            ]
          },
          "metadata": {},
          "execution_count": 106
        }
      ]
    },
    {
      "cell_type": "code",
      "source": [
        "all['Difficult'].str.upper()"
      ],
      "metadata": {
        "colab": {
          "base_uri": "https://localhost:8080/"
        },
        "id": "rHLPvIPmJP4L",
        "outputId": "b5518c5e-b685-4798-c8ee-d03fc455c288"
      },
      "execution_count": 107,
      "outputs": [
        {
          "output_type": "execute_result",
          "data": {
            "text/plain": [
              "0      NO\n",
              "1     NaN\n",
              "2     YES\n",
              "3     YES\n",
              "4      NO\n",
              "     ... \n",
              "77    YES\n",
              "78     NO\n",
              "79     NO\n",
              "80     NO\n",
              "81    YES\n",
              "Name: Difficult, Length: 82, dtype: object"
            ]
          },
          "metadata": {},
          "execution_count": 107
        }
      ]
    },
    {
      "cell_type": "code",
      "source": [
        "for i in all['Difficult']:\n",
        "  if i == 'yes':\n",
        "    all['Difficult'].replace(i, 'Yes',inplace=True)\n",
        "  elif i == 'no':\n",
        "        all['Difficult'].replace(i,'No',inplace=True)\n"
      ],
      "metadata": {
        "id": "IxRIW5ReJr3y"
      },
      "execution_count": 108,
      "outputs": []
    },
    {
      "cell_type": "code",
      "source": [
        "all['Difficult'].value_counts()"
      ],
      "metadata": {
        "colab": {
          "base_uri": "https://localhost:8080/"
        },
        "id": "2OJ2ctsPKWIR",
        "outputId": "55b77794-10f0-48f5-c9a4-983c3c646bfa"
      },
      "execution_count": 109,
      "outputs": [
        {
          "output_type": "execute_result",
          "data": {
            "text/plain": [
              "No              62\n",
              "Yes             12\n",
              "Confidential     1\n",
              "Name: Difficult, dtype: int64"
            ]
          },
          "metadata": {},
          "execution_count": 109
        }
      ]
    },
    {
      "cell_type": "code",
      "source": [
        "\n",
        "for i in all['Contacted']:\n",
        "    if i == 'yes':\n",
        "        all['Contacted'].replace(i, 'Yes', inplace=True)\n",
        "    elif i == 'no':\n",
        "        all['Contacted'].replace(i, 'No', inplace=True)"
      ],
      "metadata": {
        "id": "W6rzJc7kKaaE"
      },
      "execution_count": 110,
      "outputs": []
    },
    {
      "cell_type": "code",
      "source": [
        "\n",
        "for i in all['Know_MC']:\n",
        "    if i == 'yes':\n",
        "        all['Know_MC'].replace(i, 'Yes', inplace=True)\n",
        "    elif i == 'no':\n",
        "        all['Know_MC'].replace(i, 'No', inplace=True)"
      ],
      "metadata": {
        "id": "mP_um5q_OYjq"
      },
      "execution_count": 111,
      "outputs": []
    },
    {
      "cell_type": "code",
      "source": [
        "all['Know_MC'].value_counts()"
      ],
      "metadata": {
        "colab": {
          "base_uri": "https://localhost:8080/"
        },
        "id": "v8sRnAHdOcw_",
        "outputId": "3e726bc2-6e16-452c-d622-740847329aaa"
      },
      "execution_count": 112,
      "outputs": [
        {
          "output_type": "execute_result",
          "data": {
            "text/plain": [
              "Yes                    45\n",
              "No                     19\n",
              "yes, but basic          1\n",
              "yes but our system      1\n",
              "yes                     1\n",
              "Name: Know_MC, dtype: int64"
            ]
          },
          "metadata": {},
          "execution_count": 112
        }
      ]
    },
    {
      "cell_type": "code",
      "source": [
        "all['Contacted'].value_counts()"
      ],
      "metadata": {
        "colab": {
          "base_uri": "https://localhost:8080/"
        },
        "id": "4FDOheBuOeEV",
        "outputId": "19d2ba7b-3bfb-4a69-ebf2-3906baabd3aa"
      },
      "execution_count": 113,
      "outputs": [
        {
          "output_type": "execute_result",
          "data": {
            "text/plain": [
              "Yes    55\n",
              "No     15\n",
              "Name: Contacted, dtype: int64"
            ]
          },
          "metadata": {},
          "execution_count": 113
        }
      ]
    },
    {
      "cell_type": "code",
      "source": [
        "all[all['Know_MC']!='Yes']"
      ],
      "metadata": {
        "colab": {
          "base_uri": "https://localhost:8080/",
          "height": 1000
        },
        "id": "x9J8PETSO6BM",
        "outputId": "2be5cc56-b8fd-454e-c5b2-91e905ca00f2"
      },
      "execution_count": 114,
      "outputs": [
        {
          "output_type": "execute_result",
          "data": {
            "text/plain": [
              "    index                                           Industry  \\\n",
              "1       1                        Information Technology (IT)   \n",
              "2       2                        Information Technology (IT)   \n",
              "3       3                                  Garments/ Textile   \n",
              "4       4                        Information Technology (IT)   \n",
              "5       5                              E-commerce/F-commerce   \n",
              "6       6                                             Others   \n",
              "7      22                                  Garments/ Textile   \n",
              "10     30                     Electronics/ Consumer Durables   \n",
              "11     34            Architecture/ Engineering/ Construction   \n",
              "12     35                                  Garments/ Textile   \n",
              "13     36  Media (Satellite/ Print/ Online)/ Advertising/...   \n",
              "14     39                                             Others   \n",
              "16     49                           Real Estate/ Development   \n",
              "17     50                           Real Estate/ Development   \n",
              "19     59                           Food & Beverage Industry   \n",
              "21     65                                             Others   \n",
              "23     67                                             Others   \n",
              "26     76                        Information Technology (IT)   \n",
              "27    201                                  Garments/ Textile   \n",
              "30    226                   Wholesale/ Retail/ Export-Import   \n",
              "31    273                                          Education   \n",
              "32      0                    Bank/ Non-Bank Fin. Institution   \n",
              "33      7                        Hospital/ Diagnostic Center   \n",
              "35      9                                  Garments/ Textile   \n",
              "36     19                                  Garments/ Textile   \n",
              "37     20  Media (Satellite/ Print/ Online)/ Advertising/...   \n",
              "38     28                                             Others   \n",
              "40     43                          Logistics/ Transportation   \n",
              "51    512                              E-commerce/F-commerce   \n",
              "52    592                                    NGO/Development   \n",
              "56     10                    Bank/ Non-Bank Fin. Institution   \n",
              "58     13                                    NGO/Development   \n",
              "61     17                                  Garments/ Textile   \n",
              "64     33                                  Garments/ Textile   \n",
              "67     41                                  Garments/ Textile   \n",
              "68     44                                   Hotel/Restaurant   \n",
              "78    130                     Manufacturing (Heavy Industry)   \n",
              "\n",
              "                                           CV_Sorting Difficult Contacted  \\\n",
              "1                                              Bdjobs       NaN       NaN   \n",
              "2                                              Bdjobs       Yes       Yes   \n",
              "3                                            Manually       Yes        No   \n",
              "4                                              Bdjobs        No       Yes   \n",
              "5                                                 NaN       NaN       NaN   \n",
              "6                                            Download        No        No   \n",
              "7                                            Manually       NaN        No   \n",
              "10                                             Bdjobs       NaN       NaN   \n",
              "11                                           Manually        No       NaN   \n",
              "12                                             Bdjobs        No       Yes   \n",
              "13                                             Bdjobs        No        No   \n",
              "14                                             Bdjobs        No        No   \n",
              "16                                             Bdjobs        No       NaN   \n",
              "17                                                ATS        No       NaN   \n",
              "19                                           Manually        No        No   \n",
              "21                                             Bdjobs        No       NaN   \n",
              "23                                                ATS        No       NaN   \n",
              "26                                             Bdjobs       NaN       NaN   \n",
              "27                                             Bdjobs        No       Yes   \n",
              "30                                           Manually       NaN        No   \n",
              "31                                           Manually       Yes       Yes   \n",
              "32                                           Manually        No       NaN   \n",
              "33                                           Manually        No        No   \n",
              "35                                             Bdjobs        No       NaN   \n",
              "36                                             Bdjobs        No       Yes   \n",
              "37                                           Manually        No        No   \n",
              "38                                             Bdjobs        No       Yes   \n",
              "40                                           Manually        No       Yes   \n",
              "51  experience above 3 years + University + Keywords         No       Yes   \n",
              "52                           experience , our system         No        No   \n",
              "56                                           Manually        No       Yes   \n",
              "58                                                ATS        No       Yes   \n",
              "61                                           Manually       Yes       Yes   \n",
              "64                                           Manually        No       Yes   \n",
              "67                                           Manually       Yes        No   \n",
              "68                                           Manually       NaN       NaN   \n",
              "78                                             Bdjobs        No       Yes   \n",
              "\n",
              "       Benefits_AOP              Know_MC  \\\n",
              "1               NaN                  NaN   \n",
              "2          Not Much                   No   \n",
              "3          Not Much                   No   \n",
              "4          Not Much                   No   \n",
              "5               NaN                  NaN   \n",
              "6          Not Much                   No   \n",
              "7          Not Much                   No   \n",
              "10              NaN                  NaN   \n",
              "11              NaN                   No   \n",
              "12              NaN                   No   \n",
              "13         Not much                   No   \n",
              "14              NaN                   No   \n",
              "16              NaN                  NaN   \n",
              "17              NaN                  NaN   \n",
              "19               No                   No   \n",
              "21              NaN                  NaN   \n",
              "23              NaN                  NaN   \n",
              "26              NaN                  NaN   \n",
              "27               No                  NaN   \n",
              "30              NaN                  NaN   \n",
              "31              Yes                   No   \n",
              "32              NaN                  NaN   \n",
              "33              Yes                   No   \n",
              "35              NaN                  NaN   \n",
              "36       Preference                   No   \n",
              "37       Preference                   No   \n",
              "38              NaN                  NaN   \n",
              "40              NaN                  NaN   \n",
              "51  company policy       yes, but basic    \n",
              "52          policy   yes but our system    \n",
              "56       Preference                   No   \n",
              "58       Preference                   No   \n",
              "61       Preference                   No   \n",
              "64       Preference                   No   \n",
              "67               no                   No   \n",
              "68              NaN                  NaN   \n",
              "78               no                 yes    \n",
              "\n",
              "                                               Remark    Size  \n",
              "1                                                 NaN   Small  \n",
              "2                                                 NaN   Small  \n",
              "3                                                 NaN   Small  \n",
              "4   Can not find appropriate candidate. Had to use...   Small  \n",
              "5   Price increased, now using paper advertisement...   Small  \n",
              "6   A notification system from LinkedIn to notify ...   Small  \n",
              "7                                                 NaN   Small  \n",
              "10                                                NaN   Small  \n",
              "11                                                NaN   Small  \n",
              "12                                                NaN   Small  \n",
              "13                                                NaN   Small  \n",
              "14  Lack of serious candidates. Not enough candida...   Small  \n",
              "16  Physical CV droppers are serious, Online appli...   Small  \n",
              "17  Physical CV droppers are serious, Online appli...   Small  \n",
              "19                                                NaN   Small  \n",
              "21                                                NaN   Small  \n",
              "23                                                NaN   Small  \n",
              "26                                                NaN   Small  \n",
              "27  Keyword search,match merchandising CV , Woven ...   Small  \n",
              "30                             Sales Team didn't tell   Small  \n",
              "31                                                NaN   Small  \n",
              "32                                                NaN  Medium  \n",
              "33  Totally mis-communication, thinks AO is paid a...  Medium  \n",
              "35                                                NaN  Medium  \n",
              "36  Needs to be contacted in regard of new service...  Medium  \n",
              "37                                                NaN  Medium  \n",
              "38                                                NaN  Medium  \n",
              "40                                                NaN  Medium  \n",
              "51                                                NaN  Medium  \n",
              "52                                                NaN  Medium  \n",
              "56                                                NaN     Big  \n",
              "58                                                NaN     Big  \n",
              "61                                                NaN     Big  \n",
              "64                                                NaN     Big  \n",
              "67                                                NaN     Big  \n",
              "68                                                NaN     Big  \n",
              "78                                                NaN     Big  "
            ],
            "text/html": [
              "\n",
              "  <div id=\"df-c9f82cc5-9e47-4a9a-9ad4-345f404146a3\">\n",
              "    <div class=\"colab-df-container\">\n",
              "      <div>\n",
              "<style scoped>\n",
              "    .dataframe tbody tr th:only-of-type {\n",
              "        vertical-align: middle;\n",
              "    }\n",
              "\n",
              "    .dataframe tbody tr th {\n",
              "        vertical-align: top;\n",
              "    }\n",
              "\n",
              "    .dataframe thead th {\n",
              "        text-align: right;\n",
              "    }\n",
              "</style>\n",
              "<table border=\"1\" class=\"dataframe\">\n",
              "  <thead>\n",
              "    <tr style=\"text-align: right;\">\n",
              "      <th></th>\n",
              "      <th>index</th>\n",
              "      <th>Industry</th>\n",
              "      <th>CV_Sorting</th>\n",
              "      <th>Difficult</th>\n",
              "      <th>Contacted</th>\n",
              "      <th>Benefits_AOP</th>\n",
              "      <th>Know_MC</th>\n",
              "      <th>Remark</th>\n",
              "      <th>Size</th>\n",
              "    </tr>\n",
              "  </thead>\n",
              "  <tbody>\n",
              "    <tr>\n",
              "      <th>1</th>\n",
              "      <td>1</td>\n",
              "      <td>Information Technology (IT)</td>\n",
              "      <td>Bdjobs</td>\n",
              "      <td>NaN</td>\n",
              "      <td>NaN</td>\n",
              "      <td>NaN</td>\n",
              "      <td>NaN</td>\n",
              "      <td>NaN</td>\n",
              "      <td>Small</td>\n",
              "    </tr>\n",
              "    <tr>\n",
              "      <th>2</th>\n",
              "      <td>2</td>\n",
              "      <td>Information Technology (IT)</td>\n",
              "      <td>Bdjobs</td>\n",
              "      <td>Yes</td>\n",
              "      <td>Yes</td>\n",
              "      <td>Not Much</td>\n",
              "      <td>No</td>\n",
              "      <td>NaN</td>\n",
              "      <td>Small</td>\n",
              "    </tr>\n",
              "    <tr>\n",
              "      <th>3</th>\n",
              "      <td>3</td>\n",
              "      <td>Garments/ Textile</td>\n",
              "      <td>Manually</td>\n",
              "      <td>Yes</td>\n",
              "      <td>No</td>\n",
              "      <td>Not Much</td>\n",
              "      <td>No</td>\n",
              "      <td>NaN</td>\n",
              "      <td>Small</td>\n",
              "    </tr>\n",
              "    <tr>\n",
              "      <th>4</th>\n",
              "      <td>4</td>\n",
              "      <td>Information Technology (IT)</td>\n",
              "      <td>Bdjobs</td>\n",
              "      <td>No</td>\n",
              "      <td>Yes</td>\n",
              "      <td>Not Much</td>\n",
              "      <td>No</td>\n",
              "      <td>Can not find appropriate candidate. Had to use...</td>\n",
              "      <td>Small</td>\n",
              "    </tr>\n",
              "    <tr>\n",
              "      <th>5</th>\n",
              "      <td>5</td>\n",
              "      <td>E-commerce/F-commerce</td>\n",
              "      <td>NaN</td>\n",
              "      <td>NaN</td>\n",
              "      <td>NaN</td>\n",
              "      <td>NaN</td>\n",
              "      <td>NaN</td>\n",
              "      <td>Price increased, now using paper advertisement...</td>\n",
              "      <td>Small</td>\n",
              "    </tr>\n",
              "    <tr>\n",
              "      <th>6</th>\n",
              "      <td>6</td>\n",
              "      <td>Others</td>\n",
              "      <td>Download</td>\n",
              "      <td>No</td>\n",
              "      <td>No</td>\n",
              "      <td>Not Much</td>\n",
              "      <td>No</td>\n",
              "      <td>A notification system from LinkedIn to notify ...</td>\n",
              "      <td>Small</td>\n",
              "    </tr>\n",
              "    <tr>\n",
              "      <th>7</th>\n",
              "      <td>22</td>\n",
              "      <td>Garments/ Textile</td>\n",
              "      <td>Manually</td>\n",
              "      <td>NaN</td>\n",
              "      <td>No</td>\n",
              "      <td>Not Much</td>\n",
              "      <td>No</td>\n",
              "      <td>NaN</td>\n",
              "      <td>Small</td>\n",
              "    </tr>\n",
              "    <tr>\n",
              "      <th>10</th>\n",
              "      <td>30</td>\n",
              "      <td>Electronics/ Consumer Durables</td>\n",
              "      <td>Bdjobs</td>\n",
              "      <td>NaN</td>\n",
              "      <td>NaN</td>\n",
              "      <td>NaN</td>\n",
              "      <td>NaN</td>\n",
              "      <td>NaN</td>\n",
              "      <td>Small</td>\n",
              "    </tr>\n",
              "    <tr>\n",
              "      <th>11</th>\n",
              "      <td>34</td>\n",
              "      <td>Architecture/ Engineering/ Construction</td>\n",
              "      <td>Manually</td>\n",
              "      <td>No</td>\n",
              "      <td>NaN</td>\n",
              "      <td>NaN</td>\n",
              "      <td>No</td>\n",
              "      <td>NaN</td>\n",
              "      <td>Small</td>\n",
              "    </tr>\n",
              "    <tr>\n",
              "      <th>12</th>\n",
              "      <td>35</td>\n",
              "      <td>Garments/ Textile</td>\n",
              "      <td>Bdjobs</td>\n",
              "      <td>No</td>\n",
              "      <td>Yes</td>\n",
              "      <td>NaN</td>\n",
              "      <td>No</td>\n",
              "      <td>NaN</td>\n",
              "      <td>Small</td>\n",
              "    </tr>\n",
              "    <tr>\n",
              "      <th>13</th>\n",
              "      <td>36</td>\n",
              "      <td>Media (Satellite/ Print/ Online)/ Advertising/...</td>\n",
              "      <td>Bdjobs</td>\n",
              "      <td>No</td>\n",
              "      <td>No</td>\n",
              "      <td>Not much</td>\n",
              "      <td>No</td>\n",
              "      <td>NaN</td>\n",
              "      <td>Small</td>\n",
              "    </tr>\n",
              "    <tr>\n",
              "      <th>14</th>\n",
              "      <td>39</td>\n",
              "      <td>Others</td>\n",
              "      <td>Bdjobs</td>\n",
              "      <td>No</td>\n",
              "      <td>No</td>\n",
              "      <td>NaN</td>\n",
              "      <td>No</td>\n",
              "      <td>Lack of serious candidates. Not enough candida...</td>\n",
              "      <td>Small</td>\n",
              "    </tr>\n",
              "    <tr>\n",
              "      <th>16</th>\n",
              "      <td>49</td>\n",
              "      <td>Real Estate/ Development</td>\n",
              "      <td>Bdjobs</td>\n",
              "      <td>No</td>\n",
              "      <td>NaN</td>\n",
              "      <td>NaN</td>\n",
              "      <td>NaN</td>\n",
              "      <td>Physical CV droppers are serious, Online appli...</td>\n",
              "      <td>Small</td>\n",
              "    </tr>\n",
              "    <tr>\n",
              "      <th>17</th>\n",
              "      <td>50</td>\n",
              "      <td>Real Estate/ Development</td>\n",
              "      <td>ATS</td>\n",
              "      <td>No</td>\n",
              "      <td>NaN</td>\n",
              "      <td>NaN</td>\n",
              "      <td>NaN</td>\n",
              "      <td>Physical CV droppers are serious, Online appli...</td>\n",
              "      <td>Small</td>\n",
              "    </tr>\n",
              "    <tr>\n",
              "      <th>19</th>\n",
              "      <td>59</td>\n",
              "      <td>Food &amp; Beverage Industry</td>\n",
              "      <td>Manually</td>\n",
              "      <td>No</td>\n",
              "      <td>No</td>\n",
              "      <td>No</td>\n",
              "      <td>No</td>\n",
              "      <td>NaN</td>\n",
              "      <td>Small</td>\n",
              "    </tr>\n",
              "    <tr>\n",
              "      <th>21</th>\n",
              "      <td>65</td>\n",
              "      <td>Others</td>\n",
              "      <td>Bdjobs</td>\n",
              "      <td>No</td>\n",
              "      <td>NaN</td>\n",
              "      <td>NaN</td>\n",
              "      <td>NaN</td>\n",
              "      <td>NaN</td>\n",
              "      <td>Small</td>\n",
              "    </tr>\n",
              "    <tr>\n",
              "      <th>23</th>\n",
              "      <td>67</td>\n",
              "      <td>Others</td>\n",
              "      <td>ATS</td>\n",
              "      <td>No</td>\n",
              "      <td>NaN</td>\n",
              "      <td>NaN</td>\n",
              "      <td>NaN</td>\n",
              "      <td>NaN</td>\n",
              "      <td>Small</td>\n",
              "    </tr>\n",
              "    <tr>\n",
              "      <th>26</th>\n",
              "      <td>76</td>\n",
              "      <td>Information Technology (IT)</td>\n",
              "      <td>Bdjobs</td>\n",
              "      <td>NaN</td>\n",
              "      <td>NaN</td>\n",
              "      <td>NaN</td>\n",
              "      <td>NaN</td>\n",
              "      <td>NaN</td>\n",
              "      <td>Small</td>\n",
              "    </tr>\n",
              "    <tr>\n",
              "      <th>27</th>\n",
              "      <td>201</td>\n",
              "      <td>Garments/ Textile</td>\n",
              "      <td>Bdjobs</td>\n",
              "      <td>No</td>\n",
              "      <td>Yes</td>\n",
              "      <td>No</td>\n",
              "      <td>NaN</td>\n",
              "      <td>Keyword search,match merchandising CV , Woven ...</td>\n",
              "      <td>Small</td>\n",
              "    </tr>\n",
              "    <tr>\n",
              "      <th>30</th>\n",
              "      <td>226</td>\n",
              "      <td>Wholesale/ Retail/ Export-Import</td>\n",
              "      <td>Manually</td>\n",
              "      <td>NaN</td>\n",
              "      <td>No</td>\n",
              "      <td>NaN</td>\n",
              "      <td>NaN</td>\n",
              "      <td>Sales Team didn't tell</td>\n",
              "      <td>Small</td>\n",
              "    </tr>\n",
              "    <tr>\n",
              "      <th>31</th>\n",
              "      <td>273</td>\n",
              "      <td>Education</td>\n",
              "      <td>Manually</td>\n",
              "      <td>Yes</td>\n",
              "      <td>Yes</td>\n",
              "      <td>Yes</td>\n",
              "      <td>No</td>\n",
              "      <td>NaN</td>\n",
              "      <td>Small</td>\n",
              "    </tr>\n",
              "    <tr>\n",
              "      <th>32</th>\n",
              "      <td>0</td>\n",
              "      <td>Bank/ Non-Bank Fin. Institution</td>\n",
              "      <td>Manually</td>\n",
              "      <td>No</td>\n",
              "      <td>NaN</td>\n",
              "      <td>NaN</td>\n",
              "      <td>NaN</td>\n",
              "      <td>NaN</td>\n",
              "      <td>Medium</td>\n",
              "    </tr>\n",
              "    <tr>\n",
              "      <th>33</th>\n",
              "      <td>7</td>\n",
              "      <td>Hospital/ Diagnostic Center</td>\n",
              "      <td>Manually</td>\n",
              "      <td>No</td>\n",
              "      <td>No</td>\n",
              "      <td>Yes</td>\n",
              "      <td>No</td>\n",
              "      <td>Totally mis-communication, thinks AO is paid a...</td>\n",
              "      <td>Medium</td>\n",
              "    </tr>\n",
              "    <tr>\n",
              "      <th>35</th>\n",
              "      <td>9</td>\n",
              "      <td>Garments/ Textile</td>\n",
              "      <td>Bdjobs</td>\n",
              "      <td>No</td>\n",
              "      <td>NaN</td>\n",
              "      <td>NaN</td>\n",
              "      <td>NaN</td>\n",
              "      <td>NaN</td>\n",
              "      <td>Medium</td>\n",
              "    </tr>\n",
              "    <tr>\n",
              "      <th>36</th>\n",
              "      <td>19</td>\n",
              "      <td>Garments/ Textile</td>\n",
              "      <td>Bdjobs</td>\n",
              "      <td>No</td>\n",
              "      <td>Yes</td>\n",
              "      <td>Preference</td>\n",
              "      <td>No</td>\n",
              "      <td>Needs to be contacted in regard of new service...</td>\n",
              "      <td>Medium</td>\n",
              "    </tr>\n",
              "    <tr>\n",
              "      <th>37</th>\n",
              "      <td>20</td>\n",
              "      <td>Media (Satellite/ Print/ Online)/ Advertising/...</td>\n",
              "      <td>Manually</td>\n",
              "      <td>No</td>\n",
              "      <td>No</td>\n",
              "      <td>Preference</td>\n",
              "      <td>No</td>\n",
              "      <td>NaN</td>\n",
              "      <td>Medium</td>\n",
              "    </tr>\n",
              "    <tr>\n",
              "      <th>38</th>\n",
              "      <td>28</td>\n",
              "      <td>Others</td>\n",
              "      <td>Bdjobs</td>\n",
              "      <td>No</td>\n",
              "      <td>Yes</td>\n",
              "      <td>NaN</td>\n",
              "      <td>NaN</td>\n",
              "      <td>NaN</td>\n",
              "      <td>Medium</td>\n",
              "    </tr>\n",
              "    <tr>\n",
              "      <th>40</th>\n",
              "      <td>43</td>\n",
              "      <td>Logistics/ Transportation</td>\n",
              "      <td>Manually</td>\n",
              "      <td>No</td>\n",
              "      <td>Yes</td>\n",
              "      <td>NaN</td>\n",
              "      <td>NaN</td>\n",
              "      <td>NaN</td>\n",
              "      <td>Medium</td>\n",
              "    </tr>\n",
              "    <tr>\n",
              "      <th>51</th>\n",
              "      <td>512</td>\n",
              "      <td>E-commerce/F-commerce</td>\n",
              "      <td>experience above 3 years + University + Keywords</td>\n",
              "      <td>No</td>\n",
              "      <td>Yes</td>\n",
              "      <td>company policy</td>\n",
              "      <td>yes, but basic</td>\n",
              "      <td>NaN</td>\n",
              "      <td>Medium</td>\n",
              "    </tr>\n",
              "    <tr>\n",
              "      <th>52</th>\n",
              "      <td>592</td>\n",
              "      <td>NGO/Development</td>\n",
              "      <td>experience , our system</td>\n",
              "      <td>No</td>\n",
              "      <td>No</td>\n",
              "      <td>policy</td>\n",
              "      <td>yes but our system</td>\n",
              "      <td>NaN</td>\n",
              "      <td>Medium</td>\n",
              "    </tr>\n",
              "    <tr>\n",
              "      <th>56</th>\n",
              "      <td>10</td>\n",
              "      <td>Bank/ Non-Bank Fin. Institution</td>\n",
              "      <td>Manually</td>\n",
              "      <td>No</td>\n",
              "      <td>Yes</td>\n",
              "      <td>Preference</td>\n",
              "      <td>No</td>\n",
              "      <td>NaN</td>\n",
              "      <td>Big</td>\n",
              "    </tr>\n",
              "    <tr>\n",
              "      <th>58</th>\n",
              "      <td>13</td>\n",
              "      <td>NGO/Development</td>\n",
              "      <td>ATS</td>\n",
              "      <td>No</td>\n",
              "      <td>Yes</td>\n",
              "      <td>Preference</td>\n",
              "      <td>No</td>\n",
              "      <td>NaN</td>\n",
              "      <td>Big</td>\n",
              "    </tr>\n",
              "    <tr>\n",
              "      <th>61</th>\n",
              "      <td>17</td>\n",
              "      <td>Garments/ Textile</td>\n",
              "      <td>Manually</td>\n",
              "      <td>Yes</td>\n",
              "      <td>Yes</td>\n",
              "      <td>Preference</td>\n",
              "      <td>No</td>\n",
              "      <td>NaN</td>\n",
              "      <td>Big</td>\n",
              "    </tr>\n",
              "    <tr>\n",
              "      <th>64</th>\n",
              "      <td>33</td>\n",
              "      <td>Garments/ Textile</td>\n",
              "      <td>Manually</td>\n",
              "      <td>No</td>\n",
              "      <td>Yes</td>\n",
              "      <td>Preference</td>\n",
              "      <td>No</td>\n",
              "      <td>NaN</td>\n",
              "      <td>Big</td>\n",
              "    </tr>\n",
              "    <tr>\n",
              "      <th>67</th>\n",
              "      <td>41</td>\n",
              "      <td>Garments/ Textile</td>\n",
              "      <td>Manually</td>\n",
              "      <td>Yes</td>\n",
              "      <td>No</td>\n",
              "      <td>no</td>\n",
              "      <td>No</td>\n",
              "      <td>NaN</td>\n",
              "      <td>Big</td>\n",
              "    </tr>\n",
              "    <tr>\n",
              "      <th>68</th>\n",
              "      <td>44</td>\n",
              "      <td>Hotel/Restaurant</td>\n",
              "      <td>Manually</td>\n",
              "      <td>NaN</td>\n",
              "      <td>NaN</td>\n",
              "      <td>NaN</td>\n",
              "      <td>NaN</td>\n",
              "      <td>NaN</td>\n",
              "      <td>Big</td>\n",
              "    </tr>\n",
              "    <tr>\n",
              "      <th>78</th>\n",
              "      <td>130</td>\n",
              "      <td>Manufacturing (Heavy Industry)</td>\n",
              "      <td>Bdjobs</td>\n",
              "      <td>No</td>\n",
              "      <td>Yes</td>\n",
              "      <td>no</td>\n",
              "      <td>yes</td>\n",
              "      <td>NaN</td>\n",
              "      <td>Big</td>\n",
              "    </tr>\n",
              "  </tbody>\n",
              "</table>\n",
              "</div>\n",
              "      <button class=\"colab-df-convert\" onclick=\"convertToInteractive('df-c9f82cc5-9e47-4a9a-9ad4-345f404146a3')\"\n",
              "              title=\"Convert this dataframe to an interactive table.\"\n",
              "              style=\"display:none;\">\n",
              "        \n",
              "  <svg xmlns=\"http://www.w3.org/2000/svg\" height=\"24px\"viewBox=\"0 0 24 24\"\n",
              "       width=\"24px\">\n",
              "    <path d=\"M0 0h24v24H0V0z\" fill=\"none\"/>\n",
              "    <path d=\"M18.56 5.44l.94 2.06.94-2.06 2.06-.94-2.06-.94-.94-2.06-.94 2.06-2.06.94zm-11 1L8.5 8.5l.94-2.06 2.06-.94-2.06-.94L8.5 2.5l-.94 2.06-2.06.94zm10 10l.94 2.06.94-2.06 2.06-.94-2.06-.94-.94-2.06-.94 2.06-2.06.94z\"/><path d=\"M17.41 7.96l-1.37-1.37c-.4-.4-.92-.59-1.43-.59-.52 0-1.04.2-1.43.59L10.3 9.45l-7.72 7.72c-.78.78-.78 2.05 0 2.83L4 21.41c.39.39.9.59 1.41.59.51 0 1.02-.2 1.41-.59l7.78-7.78 2.81-2.81c.8-.78.8-2.07 0-2.86zM5.41 20L4 18.59l7.72-7.72 1.47 1.35L5.41 20z\"/>\n",
              "  </svg>\n",
              "      </button>\n",
              "      \n",
              "  <style>\n",
              "    .colab-df-container {\n",
              "      display:flex;\n",
              "      flex-wrap:wrap;\n",
              "      gap: 12px;\n",
              "    }\n",
              "\n",
              "    .colab-df-convert {\n",
              "      background-color: #E8F0FE;\n",
              "      border: none;\n",
              "      border-radius: 50%;\n",
              "      cursor: pointer;\n",
              "      display: none;\n",
              "      fill: #1967D2;\n",
              "      height: 32px;\n",
              "      padding: 0 0 0 0;\n",
              "      width: 32px;\n",
              "    }\n",
              "\n",
              "    .colab-df-convert:hover {\n",
              "      background-color: #E2EBFA;\n",
              "      box-shadow: 0px 1px 2px rgba(60, 64, 67, 0.3), 0px 1px 3px 1px rgba(60, 64, 67, 0.15);\n",
              "      fill: #174EA6;\n",
              "    }\n",
              "\n",
              "    [theme=dark] .colab-df-convert {\n",
              "      background-color: #3B4455;\n",
              "      fill: #D2E3FC;\n",
              "    }\n",
              "\n",
              "    [theme=dark] .colab-df-convert:hover {\n",
              "      background-color: #434B5C;\n",
              "      box-shadow: 0px 1px 3px 1px rgba(0, 0, 0, 0.15);\n",
              "      filter: drop-shadow(0px 1px 2px rgba(0, 0, 0, 0.3));\n",
              "      fill: #FFFFFF;\n",
              "    }\n",
              "  </style>\n",
              "\n",
              "      <script>\n",
              "        const buttonEl =\n",
              "          document.querySelector('#df-c9f82cc5-9e47-4a9a-9ad4-345f404146a3 button.colab-df-convert');\n",
              "        buttonEl.style.display =\n",
              "          google.colab.kernel.accessAllowed ? 'block' : 'none';\n",
              "\n",
              "        async function convertToInteractive(key) {\n",
              "          const element = document.querySelector('#df-c9f82cc5-9e47-4a9a-9ad4-345f404146a3');\n",
              "          const dataTable =\n",
              "            await google.colab.kernel.invokeFunction('convertToInteractive',\n",
              "                                                     [key], {});\n",
              "          if (!dataTable) return;\n",
              "\n",
              "          const docLinkHtml = 'Like what you see? Visit the ' +\n",
              "            '<a target=\"_blank\" href=https://colab.research.google.com/notebooks/data_table.ipynb>data table notebook</a>'\n",
              "            + ' to learn more about interactive tables.';\n",
              "          element.innerHTML = '';\n",
              "          dataTable['output_type'] = 'display_data';\n",
              "          await google.colab.output.renderOutput(dataTable, element);\n",
              "          const docLink = document.createElement('div');\n",
              "          docLink.innerHTML = docLinkHtml;\n",
              "          element.appendChild(docLink);\n",
              "        }\n",
              "      </script>\n",
              "    </div>\n",
              "  </div>\n",
              "  "
            ]
          },
          "metadata": {},
          "execution_count": 114
        }
      ]
    },
    {
      "cell_type": "code",
      "source": [
        "all.loc[51,'Know_MC']='Yes'"
      ],
      "metadata": {
        "id": "xbwa0o2WPEmf"
      },
      "execution_count": 115,
      "outputs": []
    },
    {
      "cell_type": "code",
      "source": [
        "all.loc[52,'Know_MC']='Yes'\n",
        "all.loc[78,'Know_MC']='Yes'"
      ],
      "metadata": {
        "id": "R8PUx3I4PrDW"
      },
      "execution_count": 116,
      "outputs": []
    },
    {
      "cell_type": "code",
      "source": [
        "all['Know_MC'].value_counts().plot(kind='pie',autopct='%1.1f%%')"
      ],
      "metadata": {
        "colab": {
          "base_uri": "https://localhost:8080/",
          "height": 423
        },
        "id": "FQDq2GhXP7tB",
        "outputId": "dd79054f-bcb5-4604-c686-a6a490a2237d"
      },
      "execution_count": 133,
      "outputs": [
        {
          "output_type": "execute_result",
          "data": {
            "text/plain": [
              "<Axes: ylabel='Know_MC'>"
            ]
          },
          "metadata": {},
          "execution_count": 133
        },
        {
          "output_type": "display_data",
          "data": {
            "text/plain": [
              "<Figure size 640x480 with 1 Axes>"
            ],
            "image/png": "[encoded data removed]"
          },
          "metadata": {}
        }
      ]
    },
    {
      "cell_type": "code",
      "source": [
        "all['Contacted'].value_counts().plot(kind='pie',autopct='%1.1f%%')"
      ],
      "metadata": {
        "colab": {
          "base_uri": "https://localhost:8080/",
          "height": 423
        },
        "id": "_6EDy1q9yV2u",
        "outputId": "e941eaa1-38f9-4c93-be91-d5c4fd02a0f6"
      },
      "execution_count": 201,
      "outputs": [
        {
          "output_type": "execute_result",
          "data": {
            "text/plain": [
              "<Axes: ylabel='Contacted'>"
            ]
          },
          "metadata": {},
          "execution_count": 201
        },
        {
          "output_type": "display_data",
          "data": {
            "text/plain": [
              "<Figure size 640x480 with 1 Axes>"
            ],
            "image/png": "[encoded data removed]"
          },
          "metadata": {}
        }
      ]
    },
    {
      "cell_type": "code",
      "source": [
        "all['Benefits_AOP'].value_counts()"
      ],
      "metadata": {
        "colab": {
          "base_uri": "https://localhost:8080/"
        },
        "id": "Nh0uor4BP_EK",
        "outputId": "bddb2df7-52b1-45da-9b25-59a2ff0d4ee1"
      },
      "execution_count": 118,
      "outputs": [
        {
          "output_type": "execute_result",
          "data": {
            "text/plain": [
              "No                      18\n",
              "Preference              13\n",
              "no                      12\n",
              "Not Much                 7\n",
              "yes                      7\n",
              "Yes                      2\n",
              "No                       1\n",
              "Not much                 1\n",
              "company policy           1\n",
              "policy                   1\n",
              "we keep options open     1\n",
              "Name: Benefits_AOP, dtype: int64"
            ]
          },
          "metadata": {},
          "execution_count": 118
        }
      ]
    },
    {
      "cell_type": "code",
      "source": [
        "for i in all['Benefits_AOP']:\n",
        "  if i == 'no':\n",
        "    all['Benefits_AOP'].replace(i,'No',inplace=True)\n",
        "  elif i == 'Not much':\n",
        "    all['Benefits_AOP'].replace(i,'Not Much',inplace=True)\n",
        "  elif i == 'yes':\n",
        "    all['Benefits_AOP'].replace(i,'Yes',inplace=True)\n",
        "  elif i == 'company policy':\n",
        "    all['Benefits_AOP'].replace(i,'Preference',inplace=True)\n",
        "  elif i == 'policy':\n",
        "    all['Benefits_AOP'].replace(i,'Preference',inplace=True)\n",
        "  elif i == 'we keep options open':\n",
        "    all['Benefits_AOP'].replace(i,'Preference',inplace=True)"
      ],
      "metadata": {
        "id": "G9wX6xhTQc5N"
      },
      "execution_count": 126,
      "outputs": []
    },
    {
      "cell_type": "code",
      "source": [
        "all['Benefits_AOP'].value_counts()"
      ],
      "metadata": {
        "colab": {
          "base_uri": "https://localhost:8080/"
        },
        "id": "Z9kiiKH4Q2M8",
        "outputId": "b3c4b2e1-5ac6-4f7b-b31b-b0379fcecf3d"
      },
      "execution_count": 127,
      "outputs": [
        {
          "output_type": "execute_result",
          "data": {
            "text/plain": [
              "No                 30\n",
              "Preference         14\n",
              "Yes                 9\n",
              "Not Much            8\n",
              "No                  1\n",
              "company policy      1\n",
              "policy              1\n",
              "Name: Benefits_AOP, dtype: int64"
            ]
          },
          "metadata": {},
          "execution_count": 127
        }
      ]
    },
    {
      "cell_type": "code",
      "source": [
        "all['Benefits_AOP'].str.strip().value_counts()"
      ],
      "metadata": {
        "colab": {
          "base_uri": "https://localhost:8080/"
        },
        "id": "LnwjEByOS3nj",
        "outputId": "ac1dc58e-1704-4942-ed25-4f81420d3e0f"
      },
      "execution_count": 138,
      "outputs": [
        {
          "output_type": "execute_result",
          "data": {
            "text/plain": [
              "No                31\n",
              "Preference        14\n",
              "Yes                9\n",
              "Not Much           8\n",
              "company policy     1\n",
              "policy             1\n",
              "Name: Benefits_AOP, dtype: int64"
            ]
          },
          "metadata": {},
          "execution_count": 138
        }
      ]
    },
    {
      "cell_type": "code",
      "source": [
        "all.loc[51,'Benefits_AOP']='Preference'\n",
        "all.loc[52,'Benefits_AOP']='Preference'"
      ],
      "metadata": {
        "id": "tBvDae3DTXRb"
      },
      "execution_count": 142,
      "outputs": []
    },
    {
      "cell_type": "code",
      "source": [
        "all['Benefits_AOP']=all['Benefits_AOP'].str.strip()"
      ],
      "metadata": {
        "id": "YqceJzfMTkSE"
      },
      "execution_count": 146,
      "outputs": []
    },
    {
      "cell_type": "code",
      "source": [
        "all['Benefits_AOP'].value_counts().plot(kind='pie',autopct='%1.1f%%')"
      ],
      "metadata": {
        "colab": {
          "base_uri": "https://localhost:8080/",
          "height": 423
        },
        "id": "5_q3J2TYUFdA",
        "outputId": "f75fa3a2-0fd0-413f-8cda-da36e690f159"
      },
      "execution_count": 150,
      "outputs": [
        {
          "output_type": "execute_result",
          "data": {
            "text/plain": [
              "<Axes: ylabel='Benefits_AOP'>"
            ]
          },
          "metadata": {},
          "execution_count": 150
        },
        {
          "output_type": "display_data",
          "data": {
            "text/plain": [
              "<Figure size 640x480 with 1 Axes>"
            ],
            "image/png": "[encoded data removed]"
          },
          "metadata": {}
        }
      ]
    },
    {
      "cell_type": "code",
      "source": [
        "all.groupby('Size')['CV_Sorting'].value_counts()"
      ],
      "metadata": {
        "colab": {
          "base_uri": "https://localhost:8080/"
        },
        "id": "RCqQNRNTUIRJ",
        "outputId": "722f9a59-39c6-4723-8318-fc46e7817d78"
      },
      "execution_count": 152,
      "outputs": [
        {
          "output_type": "execute_result",
          "data": {
            "text/plain": [
              "Size    CV_Sorting                                       \n",
              "Big     Manually                                             15\n",
              "        Bdjobs                                               10\n",
              "        ATS                                                   4\n",
              "Medium  Bdjobs                                               13\n",
              "        Manually                                              4\n",
              "        experience above 3 years + University + Keywords      2\n",
              "        ATS                                                   1\n",
              "        experience , our system                               1\n",
              "Small   Bdjobs                                               21\n",
              "        Manually                                              6\n",
              "        ATS                                                   3\n",
              "        Download                                              1\n",
              "Name: CV_Sorting, dtype: int64"
            ]
          },
          "metadata": {},
          "execution_count": 152
        }
      ]
    },
    {
      "cell_type": "code",
      "source": [
        "all['CV_Sorting'].value_counts()"
      ],
      "metadata": {
        "colab": {
          "base_uri": "https://localhost:8080/"
        },
        "id": "FJWkXE0oUqOe",
        "outputId": "aeca70ca-0a3d-49c8-f857-1772433eda8b"
      },
      "execution_count": 153,
      "outputs": [
        {
          "output_type": "execute_result",
          "data": {
            "text/plain": [
              "Bdjobs                                               44\n",
              "Manually                                             25\n",
              "ATS                                                   8\n",
              "experience above 3 years + University + Keywords      2\n",
              "Download                                              1\n",
              "experience , our system                               1\n",
              "Name: CV_Sorting, dtype: int64"
            ]
          },
          "metadata": {},
          "execution_count": 153
        }
      ]
    },
    {
      "cell_type": "code",
      "source": [
        "all.loc[50,'CV_Sorting']='Bdjobs'\n",
        "all.loc[51,'CV_Sorting']='Bdjobs'\n",
        "all.loc[52,'CV_Sorting']='Bdjobs'"
      ],
      "metadata": {
        "id": "JYPP87PfU21_"
      },
      "execution_count": 159,
      "outputs": []
    },
    {
      "cell_type": "code",
      "source": [
        "all[all['CV_Sorting']=='Download']"
      ],
      "metadata": {
        "colab": {
          "base_uri": "https://localhost:8080/",
          "height": 81
        },
        "id": "HQpcOZ-TVpdk",
        "outputId": "61fa9f8e-a4d2-47c5-d5f5-37d7eba3e2f4"
      },
      "execution_count": 161,
      "outputs": [
        {
          "output_type": "execute_result",
          "data": {
            "text/plain": [
              "   index Industry CV_Sorting Difficult Contacted Benefits_AOP Know_MC  \\\n",
              "6      6   Others   Download        No        No     Not Much      No   \n",
              "\n",
              "                                              Remark   Size  \n",
              "6  A notification system from LinkedIn to notify ...  Small  "
            ],
            "text/html": [
              "\n",
              "  <div id=\"df-dff8919a-34e2-40dd-a438-1b54966ba9a4\">\n",
              "    <div class=\"colab-df-container\">\n",
              "      <div>\n",
              "<style scoped>\n",
              "    .dataframe tbody tr th:only-of-type {\n",
              "        vertical-align: middle;\n",
              "    }\n",
              "\n",
              "    .dataframe tbody tr th {\n",
              "        vertical-align: top;\n",
              "    }\n",
              "\n",
              "    .dataframe thead th {\n",
              "        text-align: right;\n",
              "    }\n",
              "</style>\n",
              "<table border=\"1\" class=\"dataframe\">\n",
              "  <thead>\n",
              "    <tr style=\"text-align: right;\">\n",
              "      <th></th>\n",
              "      <th>index</th>\n",
              "      <th>Industry</th>\n",
              "      <th>CV_Sorting</th>\n",
              "      <th>Difficult</th>\n",
              "      <th>Contacted</th>\n",
              "      <th>Benefits_AOP</th>\n",
              "      <th>Know_MC</th>\n",
              "      <th>Remark</th>\n",
              "      <th>Size</th>\n",
              "    </tr>\n",
              "  </thead>\n",
              "  <tbody>\n",
              "    <tr>\n",
              "      <th>6</th>\n",
              "      <td>6</td>\n",
              "      <td>Others</td>\n",
              "      <td>Download</td>\n",
              "      <td>No</td>\n",
              "      <td>No</td>\n",
              "      <td>Not Much</td>\n",
              "      <td>No</td>\n",
              "      <td>A notification system from LinkedIn to notify ...</td>\n",
              "      <td>Small</td>\n",
              "    </tr>\n",
              "  </tbody>\n",
              "</table>\n",
              "</div>\n",
              "      <button class=\"colab-df-convert\" onclick=\"convertToInteractive('df-dff8919a-34e2-40dd-a438-1b54966ba9a4')\"\n",
              "              title=\"Convert this dataframe to an interactive table.\"\n",
              "              style=\"display:none;\">\n",
              "        \n",
              "  <svg xmlns=\"http://www.w3.org/2000/svg\" height=\"24px\"viewBox=\"0 0 24 24\"\n",
              "       width=\"24px\">\n",
              "    <path d=\"M0 0h24v24H0V0z\" fill=\"none\"/>\n",
              "    <path d=\"M18.56 5.44l.94 2.06.94-2.06 2.06-.94-2.06-.94-.94-2.06-.94 2.06-2.06.94zm-11 1L8.5 8.5l.94-2.06 2.06-.94-2.06-.94L8.5 2.5l-.94 2.06-2.06.94zm10 10l.94 2.06.94-2.06 2.06-.94-2.06-.94-.94-2.06-.94 2.06-2.06.94z\"/><path d=\"M17.41 7.96l-1.37-1.37c-.4-.4-.92-.59-1.43-.59-.52 0-1.04.2-1.43.59L10.3 9.45l-7.72 7.72c-.78.78-.78 2.05 0 2.83L4 21.41c.39.39.9.59 1.41.59.51 0 1.02-.2 1.41-.59l7.78-7.78 2.81-2.81c.8-.78.8-2.07 0-2.86zM5.41 20L4 18.59l7.72-7.72 1.47 1.35L5.41 20z\"/>\n",
              "  </svg>\n",
              "      </button>\n",
              "      \n",
              "  <style>\n",
              "    .colab-df-container {\n",
              "      display:flex;\n",
              "      flex-wrap:wrap;\n",
              "      gap: 12px;\n",
              "    }\n",
              "\n",
              "    .colab-df-convert {\n",
              "      background-color: #E8F0FE;\n",
              "      border: none;\n",
              "      border-radius: 50%;\n",
              "      cursor: pointer;\n",
              "      display: none;\n",
              "      fill: #1967D2;\n",
              "      height: 32px;\n",
              "      padding: 0 0 0 0;\n",
              "      width: 32px;\n",
              "    }\n",
              "\n",
              "    .colab-df-convert:hover {\n",
              "      background-color: #E2EBFA;\n",
              "      box-shadow: 0px 1px 2px rgba(60, 64, 67, 0.3), 0px 1px 3px 1px rgba(60, 64, 67, 0.15);\n",
              "      fill: #174EA6;\n",
              "    }\n",
              "\n",
              "    [theme=dark] .colab-df-convert {\n",
              "      background-color: #3B4455;\n",
              "      fill: #D2E3FC;\n",
              "    }\n",
              "\n",
              "    [theme=dark] .colab-df-convert:hover {\n",
              "      background-color: #434B5C;\n",
              "      box-shadow: 0px 1px 3px 1px rgba(0, 0, 0, 0.15);\n",
              "      filter: drop-shadow(0px 1px 2px rgba(0, 0, 0, 0.3));\n",
              "      fill: #FFFFFF;\n",
              "    }\n",
              "  </style>\n",
              "\n",
              "      <script>\n",
              "        const buttonEl =\n",
              "          document.querySelector('#df-dff8919a-34e2-40dd-a438-1b54966ba9a4 button.colab-df-convert');\n",
              "        buttonEl.style.display =\n",
              "          google.colab.kernel.accessAllowed ? 'block' : 'none';\n",
              "\n",
              "        async function convertToInteractive(key) {\n",
              "          const element = document.querySelector('#df-dff8919a-34e2-40dd-a438-1b54966ba9a4');\n",
              "          const dataTable =\n",
              "            await google.colab.kernel.invokeFunction('convertToInteractive',\n",
              "                                                     [key], {});\n",
              "          if (!dataTable) return;\n",
              "\n",
              "          const docLinkHtml = 'Like what you see? Visit the ' +\n",
              "            '<a target=\"_blank\" href=https://colab.research.google.com/notebooks/data_table.ipynb>data table notebook</a>'\n",
              "            + ' to learn more about interactive tables.';\n",
              "          element.innerHTML = '';\n",
              "          dataTable['output_type'] = 'display_data';\n",
              "          await google.colab.output.renderOutput(dataTable, element);\n",
              "          const docLink = document.createElement('div');\n",
              "          docLink.innerHTML = docLinkHtml;\n",
              "          element.appendChild(docLink);\n",
              "        }\n",
              "      </script>\n",
              "    </div>\n",
              "  </div>\n",
              "  "
            ]
          },
          "metadata": {},
          "execution_count": 161
        }
      ]
    },
    {
      "cell_type": "code",
      "source": [
        "all.loc[6,'CV_Sorting']='Manually'"
      ],
      "metadata": {
        "id": "gFr1WWkOVvJF"
      },
      "execution_count": 162,
      "outputs": []
    },
    {
      "cell_type": "code",
      "source": [
        "all['CV_Sorting'].value_counts().plot(kind='pie',autopct='%1.1f%%')"
      ],
      "metadata": {
        "colab": {
          "base_uri": "https://localhost:8080/",
          "height": 423
        },
        "id": "AS0igpIXVz11",
        "outputId": "e1cdccf9-432e-466b-8908-7257f36331e2"
      },
      "execution_count": 166,
      "outputs": [
        {
          "output_type": "execute_result",
          "data": {
            "text/plain": [
              "<Axes: ylabel='CV_Sorting'>"
            ]
          },
          "metadata": {},
          "execution_count": 166
        },
        {
          "output_type": "display_data",
          "data": {
            "text/plain": [
              "<Figure size 640x480 with 1 Axes>"
            ],
            "image/png": "[encoded data removed]"
          },
          "metadata": {}
        }
      ]
    },
    {
      "cell_type": "code",
      "source": [
        "all['CV_Sorting'].value_counts().plot(kind='bar')"
      ],
      "metadata": {
        "colab": {
          "base_uri": "https://localhost:8080/",
          "height": 496
        },
        "id": "dZG4PdzQV767",
        "outputId": "99cf2a11-b766-46c9-9722-82115d5ce95d"
      },
      "execution_count": 169,
      "outputs": [
        {
          "output_type": "execute_result",
          "data": {
            "text/plain": [
              "<Axes: >"
            ]
          },
          "metadata": {},
          "execution_count": 169
        },
        {
          "output_type": "display_data",
          "data": {
            "text/plain": [
              "<Figure size 640x480 with 1 Axes>"
            ],
            "image/png": "[encoded data removed]"
          },
          "metadata": {}
        }
      ]
    },
    {
      "cell_type": "code",
      "source": [
        "all.groupby('Size')['CV_Sorting'].value_counts()"
      ],
      "metadata": {
        "colab": {
          "base_uri": "https://localhost:8080/"
        },
        "id": "vszsRkb4WQMF",
        "outputId": "a010b523-ef6c-448f-9d9b-49a91fb12b53"
      },
      "execution_count": 170,
      "outputs": [
        {
          "output_type": "execute_result",
          "data": {
            "text/plain": [
              "Size    CV_Sorting\n",
              "Big     Manually      15\n",
              "        Bdjobs        10\n",
              "        ATS            4\n",
              "Medium  Bdjobs        16\n",
              "        Manually       4\n",
              "        ATS            1\n",
              "Small   Bdjobs        21\n",
              "        Manually       7\n",
              "        ATS            3\n",
              "Name: CV_Sorting, dtype: int64"
            ]
          },
          "metadata": {},
          "execution_count": 170
        }
      ]
    },
    {
      "cell_type": "code",
      "source": [
        "import matplotlib.pyplot as plt\n",
        "\n",
        "all.groupby('Size')['CV_Sorting'].value_counts().unstack().plot(kind='bar')\n",
        "\n",
        "\n",
        "plt.xlabel('Size')\n",
        "plt.ylabel('Count')\n",
        "plt.title('Stacked Bar Chart of CV Sorting by Company Size')\n",
        "plt.legend(title='CV Sorting')\n",
        "plt.show()"
      ],
      "metadata": {
        "colab": {
          "base_uri": "https://localhost:8080/",
          "height": 513
        },
        "id": "KwEdsrqucW8T",
        "outputId": "054d74d1-26fe-40b3-81c6-72deeae6490f"
      },
      "execution_count": 182,
      "outputs": [
        {
          "output_type": "display_data",
          "data": {
            "text/plain": [
              "<Figure size 640x480 with 1 Axes>"
            ],
            "image/png": "[encoded data removed]"
          },
          "metadata": {}
        }
      ]
    },
    {
      "cell_type": "code",
      "source": [
        "pd.crosstab(all['Contacted'],all['Difficult'])"
      ],
      "metadata": {
        "colab": {
          "base_uri": "https://localhost:8080/",
          "height": 143
        },
        "id": "wJ2TU7iHjQNR",
        "outputId": "79876ac9-2aa0-4c4b-8a8b-04c576760482"
      },
      "execution_count": 194,
      "outputs": [
        {
          "output_type": "execute_result",
          "data": {
            "text/plain": [
              "Difficult  Confidential  No  Yes\n",
              "Contacted                       \n",
              "No                    0  11    2\n",
              "Yes                   1  44   10"
            ],
            "text/html": [
              "\n",
              "  <div id=\"df-d1cb08c0-fee6-457a-ab15-e6d0e9c0be47\">\n",
              "    <div class=\"colab-df-container\">\n",
              "      <div>\n",
              "<style scoped>\n",
              "    .dataframe tbody tr th:only-of-type {\n",
              "        vertical-align: middle;\n",
              "    }\n",
              "\n",
              "    .dataframe tbody tr th {\n",
              "        vertical-align: top;\n",
              "    }\n",
              "\n",
              "    .dataframe thead th {\n",
              "        text-align: right;\n",
              "    }\n",
              "</style>\n",
              "<table border=\"1\" class=\"dataframe\">\n",
              "  <thead>\n",
              "    <tr style=\"text-align: right;\">\n",
              "      <th>Difficult</th>\n",
              "      <th>Confidential</th>\n",
              "      <th>No</th>\n",
              "      <th>Yes</th>\n",
              "    </tr>\n",
              "    <tr>\n",
              "      <th>Contacted</th>\n",
              "      <th></th>\n",
              "      <th></th>\n",
              "      <th></th>\n",
              "    </tr>\n",
              "  </thead>\n",
              "  <tbody>\n",
              "    <tr>\n",
              "      <th>No</th>\n",
              "      <td>0</td>\n",
              "      <td>11</td>\n",
              "      <td>2</td>\n",
              "    </tr>\n",
              "    <tr>\n",
              "      <th>Yes</th>\n",
              "      <td>1</td>\n",
              "      <td>44</td>\n",
              "      <td>10</td>\n",
              "    </tr>\n",
              "  </tbody>\n",
              "</table>\n",
              "</div>\n",
              "      <button class=\"colab-df-convert\" onclick=\"convertToInteractive('df-d1cb08c0-fee6-457a-ab15-e6d0e9c0be47')\"\n",
              "              title=\"Convert this dataframe to an interactive table.\"\n",
              "              style=\"display:none;\">\n",
              "        \n",
              "  <svg xmlns=\"http://www.w3.org/2000/svg\" height=\"24px\"viewBox=\"0 0 24 24\"\n",
              "       width=\"24px\">\n",
              "    <path d=\"M0 0h24v24H0V0z\" fill=\"none\"/>\n",
              "    <path d=\"M18.56 5.44l.94 2.06.94-2.06 2.06-.94-2.06-.94-.94-2.06-.94 2.06-2.06.94zm-11 1L8.5 8.5l.94-2.06 2.06-.94-2.06-.94L8.5 2.5l-.94 2.06-2.06.94zm10 10l.94 2.06.94-2.06 2.06-.94-2.06-.94-.94-2.06-.94 2.06-2.06.94z\"/><path d=\"M17.41 7.96l-1.37-1.37c-.4-.4-.92-.59-1.43-.59-.52 0-1.04.2-1.43.59L10.3 9.45l-7.72 7.72c-.78.78-.78 2.05 0 2.83L4 21.41c.39.39.9.59 1.41.59.51 0 1.02-.2 1.41-.59l7.78-7.78 2.81-2.81c.8-.78.8-2.07 0-2.86zM5.41 20L4 18.59l7.72-7.72 1.47 1.35L5.41 20z\"/>\n",
              "  </svg>\n",
              "      </button>\n",
              "      \n",
              "  <style>\n",
              "    .colab-df-container {\n",
              "      display:flex;\n",
              "      flex-wrap:wrap;\n",
              "      gap: 12px;\n",
              "    }\n",
              "\n",
              "    .colab-df-convert {\n",
              "      background-color: #E8F0FE;\n",
              "      border: none;\n",
              "      border-radius: 50%;\n",
              "      cursor: pointer;\n",
              "      display: none;\n",
              "      fill: #1967D2;\n",
              "      height: 32px;\n",
              "      padding: 0 0 0 0;\n",
              "      width: 32px;\n",
              "    }\n",
              "\n",
              "    .colab-df-convert:hover {\n",
              "      background-color: #E2EBFA;\n",
              "      box-shadow: 0px 1px 2px rgba(60, 64, 67, 0.3), 0px 1px 3px 1px rgba(60, 64, 67, 0.15);\n",
              "      fill: #174EA6;\n",
              "    }\n",
              "\n",
              "    [theme=dark] .colab-df-convert {\n",
              "      background-color: #3B4455;\n",
              "      fill: #D2E3FC;\n",
              "    }\n",
              "\n",
              "    [theme=dark] .colab-df-convert:hover {\n",
              "      background-color: #434B5C;\n",
              "      box-shadow: 0px 1px 3px 1px rgba(0, 0, 0, 0.15);\n",
              "      filter: drop-shadow(0px 1px 2px rgba(0, 0, 0, 0.3));\n",
              "      fill: #FFFFFF;\n",
              "    }\n",
              "  </style>\n",
              "\n",
              "      <script>\n",
              "        const buttonEl =\n",
              "          document.querySelector('#df-d1cb08c0-fee6-457a-ab15-e6d0e9c0be47 button.colab-df-convert');\n",
              "        buttonEl.style.display =\n",
              "          google.colab.kernel.accessAllowed ? 'block' : 'none';\n",
              "\n",
              "        async function convertToInteractive(key) {\n",
              "          const element = document.querySelector('#df-d1cb08c0-fee6-457a-ab15-e6d0e9c0be47');\n",
              "          const dataTable =\n",
              "            await google.colab.kernel.invokeFunction('convertToInteractive',\n",
              "                                                     [key], {});\n",
              "          if (!dataTable) return;\n",
              "\n",
              "          const docLinkHtml = 'Like what you see? Visit the ' +\n",
              "            '<a target=\"_blank\" href=https://colab.research.google.com/notebooks/data_table.ipynb>data table notebook</a>'\n",
              "            + ' to learn more about interactive tables.';\n",
              "          element.innerHTML = '';\n",
              "          dataTable['output_type'] = 'display_data';\n",
              "          await google.colab.output.renderOutput(dataTable, element);\n",
              "          const docLink = document.createElement('div');\n",
              "          docLink.innerHTML = docLinkHtml;\n",
              "          element.appendChild(docLink);\n",
              "        }\n",
              "      </script>\n",
              "    </div>\n",
              "  </div>\n",
              "  "
            ]
          },
          "metadata": {},
          "execution_count": 194
        }
      ]
    },
    {
      "cell_type": "code",
      "source": [
        "import numpy as np\n",
        "np.log((11/44)/(44/11))"
      ],
      "metadata": {
        "colab": {
          "base_uri": "https://localhost:8080/"
        },
        "id": "_WAZ30WzkgX2",
        "outputId": "122dc414-dea2-4de3-b12c-039a2918c409"
      },
      "execution_count": 197,
      "outputs": [
        {
          "output_type": "execute_result",
          "data": {
            "text/plain": [
              "-2.772588722239781"
            ]
          },
          "metadata": {},
          "execution_count": 197
        }
      ]
    },
    {
      "cell_type": "code",
      "source": [
        "(11/44)/(2/10)"
      ],
      "metadata": {
        "colab": {
          "base_uri": "https://localhost:8080/"
        },
        "id": "SxOhdcFFmCnQ",
        "outputId": "eaead090-2423-488b-b9b8-6f2f06e09086"
      },
      "execution_count": 198,
      "outputs": [
        {
          "output_type": "execute_result",
          "data": {
            "text/plain": [
              "1.25"
            ]
          },
          "metadata": {},
          "execution_count": 198
        }
      ]
    },
    {
      "cell_type": "code",
      "source": [
        "np.log(1.25)"
      ],
      "metadata": {
        "colab": {
          "base_uri": "https://localhost:8080/"
        },
        "id": "KLRv2QlzvUMu",
        "outputId": "5882d53d-a365-497d-e15e-b2e638258564"
      },
      "execution_count": 199,
      "outputs": [
        {
          "output_type": "execute_result",
          "data": {
            "text/plain": [
              "0.22314355131420976"
            ]
          },
          "metadata": {},
          "execution_count": 199
        }
      ]
    },
    {
      "cell_type": "code",
      "source": [
        "pd.crosstab(all['Industry'],all['CV_Sorting'])"
      ],
      "metadata": {
        "colab": {
          "base_uri": "https://localhost:8080/"
        },
        "id": "q7FTnzRYvXrH",
        "outputId": "1ae73c73-0351-4c68-e230-24a9f8339b99"
      },
      "execution_count": 203,
      "outputs": [
        {
          "output_type": "execute_result",
          "data": {
            "text/plain": [
              "CV_Sorting\n",
              "ATS          8\n",
              "Bdjobs      47\n",
              "Manually    26\n",
              "dtype: int64"
            ]
          },
          "metadata": {},
          "execution_count": 203
        }
      ]
    },
    {
      "cell_type": "code",
      "source": [
        "all['Industry']=all['Industry'].str.split('/').str[0]"
      ],
      "metadata": {
        "id": "akUkCNjU0Jwv"
      },
      "execution_count": 212,
      "outputs": []
    },
    {
      "cell_type": "code",
      "source": [
        "all.groupby('Industry')['Contacted'].value_counts().unstack().plot(kind='bar',stacked=True)\n",
        "plt.xlabel('Industry')\n",
        "plt.ylabel('Contacted by Sales Contact Person')\n"
      ],
      "metadata": {
        "colab": {
          "base_uri": "https://localhost:8080/",
          "height": 674
        },
        "id": "YWTyR6uux3_2",
        "outputId": "fb296fce-7264-4f9c-cf0a-63f84d352273"
      },
      "execution_count": 219,
      "outputs": [
        {
          "output_type": "execute_result",
          "data": {
            "text/plain": [
              "Text(0, 0.5, 'Contacted by Sales Contact Person')"
            ]
          },
          "metadata": {},
          "execution_count": 219
        },
        {
          "output_type": "display_data",
          "data": {
            "text/plain": [
              "<Figure size 640x480 with 1 Axes>"
            ],
            "image/png": "[encoded data removed]"
          },
          "metadata": {}
        }
      ]
    },
    {
      "cell_type": "code",
      "source": [
        "all"
      ],
      "metadata": {
        "colab": {
          "base_uri": "https://localhost:8080/",
          "height": 424
        },
        "id": "yPOZ_kU2zRo-",
        "outputId": "be9f177e-aba8-4be0-ef8b-f7314fd61362"
      },
      "execution_count": 220,
      "outputs": [
        {
          "output_type": "execute_result",
          "data": {
            "text/plain": [
              "    index                        Industry CV_Sorting Difficult Contacted  \\\n",
              "0       0     Information Technology (IT)     Bdjobs        No       Yes   \n",
              "1       1     Information Technology (IT)     Bdjobs       NaN       NaN   \n",
              "2       2     Information Technology (IT)     Bdjobs       Yes       Yes   \n",
              "3       3                        Garments   Manually       Yes        No   \n",
              "4       4     Information Technology (IT)     Bdjobs        No       Yes   \n",
              "..    ...                             ...        ...       ...       ...   \n",
              "77    129                        Hospital        ATS       Yes       Yes   \n",
              "78    130  Manufacturing (Heavy Industry)     Bdjobs        No       Yes   \n",
              "79    133                      E-commerce   Manually        No       Yes   \n",
              "80    137                          Others   Manually        No       Yes   \n",
              "81    140        Food & Beverage Industry   Manually       Yes       Yes   \n",
              "\n",
              "   Benefits_AOP Know_MC                                             Remark  \\\n",
              "0      Not Much     Yes                                                NaN   \n",
              "1           NaN     NaN                                                NaN   \n",
              "2      Not Much      No                                                NaN   \n",
              "3      Not Much      No                                                NaN   \n",
              "4      Not Much      No  Can not find appropriate candidate. Had to use...   \n",
              "..          ...     ...                                                ...   \n",
              "77   Preference     Yes                          matching is not effective   \n",
              "78           No     Yes                                                NaN   \n",
              "79          Yes     Yes  matching is easy to sort, less irrelevant appl...   \n",
              "80          Yes     Yes                   Need more suggestive approach ,    \n",
              "81          Yes     Yes                                                NaN   \n",
              "\n",
              "     Size  \n",
              "0   Small  \n",
              "1   Small  \n",
              "2   Small  \n",
              "3   Small  \n",
              "4   Small  \n",
              "..    ...  \n",
              "77    Big  \n",
              "78    Big  \n",
              "79    Big  \n",
              "80    Big  \n",
              "81    Big  \n",
              "\n",
              "[82 rows x 9 columns]"
            ],
            "text/html": [
              "\n",
              "  <div id=\"df-21be6a4e-0061-475c-8491-13f74b6135cf\">\n",
              "    <div class=\"colab-df-container\">\n",
              "      <div>\n",
              "<style scoped>\n",
              "    .dataframe tbody tr th:only-of-type {\n",
              "        vertical-align: middle;\n",
              "    }\n",
              "\n",
              "    .dataframe tbody tr th {\n",
              "        vertical-align: top;\n",
              "    }\n",
              "\n",
              "    .dataframe thead th {\n",
              "        text-align: right;\n",
              "    }\n",
              "</style>\n",
              "<table border=\"1\" class=\"dataframe\">\n",
              "  <thead>\n",
              "    <tr style=\"text-align: right;\">\n",
              "      <th></th>\n",
              "      <th>index</th>\n",
              "      <th>Industry</th>\n",
              "      <th>CV_Sorting</th>\n",
              "      <th>Difficult</th>\n",
              "      <th>Contacted</th>\n",
              "      <th>Benefits_AOP</th>\n",
              "      <th>Know_MC</th>\n",
              "      <th>Remark</th>\n",
              "      <th>Size</th>\n",
              "    </tr>\n",
              "  </thead>\n",
              "  <tbody>\n",
              "    <tr>\n",
              "      <th>0</th>\n",
              "      <td>0</td>\n",
              "      <td>Information Technology (IT)</td>\n",
              "      <td>Bdjobs</td>\n",
              "      <td>No</td>\n",
              "      <td>Yes</td>\n",
              "      <td>Not Much</td>\n",
              "      <td>Yes</td>\n",
              "      <td>NaN</td>\n",
              "      <td>Small</td>\n",
              "    </tr>\n",
              "    <tr>\n",
              "      <th>1</th>\n",
              "      <td>1</td>\n",
              "      <td>Information Technology (IT)</td>\n",
              "      <td>Bdjobs</td>\n",
              "      <td>NaN</td>\n",
              "      <td>NaN</td>\n",
              "      <td>NaN</td>\n",
              "      <td>NaN</td>\n",
              "      <td>NaN</td>\n",
              "      <td>Small</td>\n",
              "    </tr>\n",
              "    <tr>\n",
              "      <th>2</th>\n",
              "      <td>2</td>\n",
              "      <td>Information Technology (IT)</td>\n",
              "      <td>Bdjobs</td>\n",
              "      <td>Yes</td>\n",
              "      <td>Yes</td>\n",
              "      <td>Not Much</td>\n",
              "      <td>No</td>\n",
              "      <td>NaN</td>\n",
              "      <td>Small</td>\n",
              "    </tr>\n",
              "    <tr>\n",
              "      <th>3</th>\n",
              "      <td>3</td>\n",
              "      <td>Garments</td>\n",
              "      <td>Manually</td>\n",
              "      <td>Yes</td>\n",
              "      <td>No</td>\n",
              "      <td>Not Much</td>\n",
              "      <td>No</td>\n",
              "      <td>NaN</td>\n",
              "      <td>Small</td>\n",
              "    </tr>\n",
              "    <tr>\n",
              "      <th>4</th>\n",
              "      <td>4</td>\n",
              "      <td>Information Technology (IT)</td>\n",
              "      <td>Bdjobs</td>\n",
              "      <td>No</td>\n",
              "      <td>Yes</td>\n",
              "      <td>Not Much</td>\n",
              "      <td>No</td>\n",
              "      <td>Can not find appropriate candidate. Had to use...</td>\n",
              "      <td>Small</td>\n",
              "    </tr>\n",
              "    <tr>\n",
              "      <th>...</th>\n",
              "      <td>...</td>\n",
              "      <td>...</td>\n",
              "      <td>...</td>\n",
              "      <td>...</td>\n",
              "      <td>...</td>\n",
              "      <td>...</td>\n",
              "      <td>...</td>\n",
              "      <td>...</td>\n",
              "      <td>...</td>\n",
              "    </tr>\n",
              "    <tr>\n",
              "      <th>77</th>\n",
              "      <td>129</td>\n",
              "      <td>Hospital</td>\n",
              "      <td>ATS</td>\n",
              "      <td>Yes</td>\n",
              "      <td>Yes</td>\n",
              "      <td>Preference</td>\n",
              "      <td>Yes</td>\n",
              "      <td>matching is not effective</td>\n",
              "      <td>Big</td>\n",
              "    </tr>\n",
              "    <tr>\n",
              "      <th>78</th>\n",
              "      <td>130</td>\n",
              "      <td>Manufacturing (Heavy Industry)</td>\n",
              "      <td>Bdjobs</td>\n",
              "      <td>No</td>\n",
              "      <td>Yes</td>\n",
              "      <td>No</td>\n",
              "      <td>Yes</td>\n",
              "      <td>NaN</td>\n",
              "      <td>Big</td>\n",
              "    </tr>\n",
              "    <tr>\n",
              "      <th>79</th>\n",
              "      <td>133</td>\n",
              "      <td>E-commerce</td>\n",
              "      <td>Manually</td>\n",
              "      <td>No</td>\n",
              "      <td>Yes</td>\n",
              "      <td>Yes</td>\n",
              "      <td>Yes</td>\n",
              "      <td>matching is easy to sort, less irrelevant appl...</td>\n",
              "      <td>Big</td>\n",
              "    </tr>\n",
              "    <tr>\n",
              "      <th>80</th>\n",
              "      <td>137</td>\n",
              "      <td>Others</td>\n",
              "      <td>Manually</td>\n",
              "      <td>No</td>\n",
              "      <td>Yes</td>\n",
              "      <td>Yes</td>\n",
              "      <td>Yes</td>\n",
              "      <td>Need more suggestive approach ,</td>\n",
              "      <td>Big</td>\n",
              "    </tr>\n",
              "    <tr>\n",
              "      <th>81</th>\n",
              "      <td>140</td>\n",
              "      <td>Food &amp; Beverage Industry</td>\n",
              "      <td>Manually</td>\n",
              "      <td>Yes</td>\n",
              "      <td>Yes</td>\n",
              "      <td>Yes</td>\n",
              "      <td>Yes</td>\n",
              "      <td>NaN</td>\n",
              "      <td>Big</td>\n",
              "    </tr>\n",
              "  </tbody>\n",
              "</table>\n",
              "<p>82 rows × 9 columns</p>\n",
              "</div>\n",
              "      <button class=\"colab-df-convert\" onclick=\"convertToInteractive('df-21be6a4e-0061-475c-8491-13f74b6135cf')\"\n",
              "              title=\"Convert this dataframe to an interactive table.\"\n",
              "              style=\"display:none;\">\n",
              "        \n",
              "  <svg xmlns=\"http://www.w3.org/2000/svg\" height=\"24px\"viewBox=\"0 0 24 24\"\n",
              "       width=\"24px\">\n",
              "    <path d=\"M0 0h24v24H0V0z\" fill=\"none\"/>\n",
              "    <path d=\"M18.56 5.44l.94 2.06.94-2.06 2.06-.94-2.06-.94-.94-2.06-.94 2.06-2.06.94zm-11 1L8.5 8.5l.94-2.06 2.06-.94-2.06-.94L8.5 2.5l-.94 2.06-2.06.94zm10 10l.94 2.06.94-2.06 2.06-.94-2.06-.94-.94-2.06-.94 2.06-2.06.94z\"/><path d=\"M17.41 7.96l-1.37-1.37c-.4-.4-.92-.59-1.43-.59-.52 0-1.04.2-1.43.59L10.3 9.45l-7.72 7.72c-.78.78-.78 2.05 0 2.83L4 21.41c.39.39.9.59 1.41.59.51 0 1.02-.2 1.41-.59l7.78-7.78 2.81-2.81c.8-.78.8-2.07 0-2.86zM5.41 20L4 18.59l7.72-7.72 1.47 1.35L5.41 20z\"/>\n",
              "  </svg>\n",
              "      </button>\n",
              "      \n",
              "  <style>\n",
              "    .colab-df-container {\n",
              "      display:flex;\n",
              "      flex-wrap:wrap;\n",
              "      gap: 12px;\n",
              "    }\n",
              "\n",
              "    .colab-df-convert {\n",
              "      background-color: #E8F0FE;\n",
              "      border: none;\n",
              "      border-radius: 50%;\n",
              "      cursor: pointer;\n",
              "      display: none;\n",
              "      fill: #1967D2;\n",
              "      height: 32px;\n",
              "      padding: 0 0 0 0;\n",
              "      width: 32px;\n",
              "    }\n",
              "\n",
              "    .colab-df-convert:hover {\n",
              "      background-color: #E2EBFA;\n",
              "      box-shadow: 0px 1px 2px rgba(60, 64, 67, 0.3), 0px 1px 3px 1px rgba(60, 64, 67, 0.15);\n",
              "      fill: #174EA6;\n",
              "    }\n",
              "\n",
              "    [theme=dark] .colab-df-convert {\n",
              "      background-color: #3B4455;\n",
              "      fill: #D2E3FC;\n",
              "    }\n",
              "\n",
              "    [theme=dark] .colab-df-convert:hover {\n",
              "      background-color: #434B5C;\n",
              "      box-shadow: 0px 1px 3px 1px rgba(0, 0, 0, 0.15);\n",
              "      filter: drop-shadow(0px 1px 2px rgba(0, 0, 0, 0.3));\n",
              "      fill: #FFFFFF;\n",
              "    }\n",
              "  </style>\n",
              "\n",
              "      <script>\n",
              "        const buttonEl =\n",
              "          document.querySelector('#df-21be6a4e-0061-475c-8491-13f74b6135cf button.colab-df-convert');\n",
              "        buttonEl.style.display =\n",
              "          google.colab.kernel.accessAllowed ? 'block' : 'none';\n",
              "\n",
              "        async function convertToInteractive(key) {\n",
              "          const element = document.querySelector('#df-21be6a4e-0061-475c-8491-13f74b6135cf');\n",
              "          const dataTable =\n",
              "            await google.colab.kernel.invokeFunction('convertToInteractive',\n",
              "                                                     [key], {});\n",
              "          if (!dataTable) return;\n",
              "\n",
              "          const docLinkHtml = 'Like what you see? Visit the ' +\n",
              "            '<a target=\"_blank\" href=https://colab.research.google.com/notebooks/data_table.ipynb>data table notebook</a>'\n",
              "            + ' to learn more about interactive tables.';\n",
              "          element.innerHTML = '';\n",
              "          dataTable['output_type'] = 'display_data';\n",
              "          await google.colab.output.renderOutput(dataTable, element);\n",
              "          const docLink = document.createElement('div');\n",
              "          docLink.innerHTML = docLinkHtml;\n",
              "          element.appendChild(docLink);\n",
              "        }\n",
              "      </script>\n",
              "    </div>\n",
              "  </div>\n",
              "  "
            ]
          },
          "metadata": {},
          "execution_count": 220
        }
      ]
    },
    {
      "cell_type": "code",
      "source": [
        "cont=pd.crosstab(all[all['CV_Sorting']!='ATS']['CV_Sorting'],all[all['Difficult']!='Confidential']['Difficult'])"
      ],
      "metadata": {
        "id": "G3m7RN2q3QQ4"
      },
      "execution_count": 227,
      "outputs": []
    },
    {
      "cell_type": "code",
      "source": [
        "(42/13)/(2/9)"
      ],
      "metadata": {
        "colab": {
          "base_uri": "https://localhost:8080/"
        },
        "id": "hpdKA6Ju3cmZ",
        "outputId": "e663912a-2785-4683-eb7a-cfe0454b6fa3"
      },
      "execution_count": 222,
      "outputs": [
        {
          "output_type": "execute_result",
          "data": {
            "text/plain": [
              "14.53846153846154"
            ]
          },
          "metadata": {},
          "execution_count": 222
        }
      ]
    },
    {
      "cell_type": "code",
      "source": [
        "np.log(14.5)"
      ],
      "metadata": {
        "colab": {
          "base_uri": "https://localhost:8080/"
        },
        "id": "axxdAXhr3o70",
        "outputId": "c4fdb723-a8ed-4aa7-d94f-92d6bbb412ec"
      },
      "execution_count": 223,
      "outputs": [
        {
          "output_type": "execute_result",
          "data": {
            "text/plain": [
              "2.6741486494265287"
            ]
          },
          "metadata": {},
          "execution_count": 223
        }
      ]
    },
    {
      "cell_type": "code",
      "source": [
        "all[all['CV_Sorting']!='ATS']['CV_Sorting']"
      ],
      "metadata": {
        "colab": {
          "base_uri": "https://localhost:8080/"
        },
        "id": "xYX00dMI4XZK",
        "outputId": "3aa11a66-ce27-4452-fb65-869cbff5f6c1"
      },
      "execution_count": 225,
      "outputs": [
        {
          "output_type": "execute_result",
          "data": {
            "text/plain": [
              "0       Bdjobs\n",
              "1       Bdjobs\n",
              "2       Bdjobs\n",
              "3     Manually\n",
              "4       Bdjobs\n",
              "        ...   \n",
              "76    Manually\n",
              "78      Bdjobs\n",
              "79    Manually\n",
              "80    Manually\n",
              "81    Manually\n",
              "Name: CV_Sorting, Length: 74, dtype: object"
            ]
          },
          "metadata": {},
          "execution_count": 225
        }
      ]
    },
    {
      "cell_type": "code",
      "source": [
        "from scipy.stats import chi2_contingency\n",
        "chi2, p_value, dof, expected = chi2_contingency(cont)"
      ],
      "metadata": {
        "id": "_pRMMKnK3r12"
      },
      "execution_count": 228,
      "outputs": []
    },
    {
      "cell_type": "code",
      "source": [
        "print(p_value)"
      ],
      "metadata": {
        "colab": {
          "base_uri": "https://localhost:8080/"
        },
        "id": "EEyD7S6A439K",
        "outputId": "3917d456-82c0-43e2-b38f-23fc7943995b"
      },
      "execution_count": 230,
      "outputs": [
        {
          "output_type": "stream",
          "name": "stdout",
          "text": [
            "0.0007079791172893016\n"
          ]
        }
      ]
    },
    {
      "cell_type": "code",
      "source": [
        "all['Remark'].unique()"
      ],
      "metadata": {
        "colab": {
          "base_uri": "https://localhost:8080/"
        },
        "id": "8kmS-7DX46UG",
        "outputId": "a8c306d3-cab6-47b3-c613-c58590ef517d"
      },
      "execution_count": 232,
      "outputs": [
        {
          "output_type": "execute_result",
          "data": {
            "text/plain": [
              "array([nan,\n",
              "       'Can not find appropriate candidate. Had to use other sources because of reduced number of applicants.',\n",
              "       'Price increased, now using paper advertisement. Now our portal has become harder to navigate.',\n",
              "       'A notification system from LinkedIn to notify the rejected candidates. Now uses LinkedIn.',\n",
              "       'Just to store cv, not much use of email',\n",
              "       'Lack of serious candidates. Not enough candidates attending physical interview.',\n",
              "       'Physical CV droppers are serious, Online applicants not showing up in physical interview.',\n",
              "       'Physical CV droppers are serious, Online applicants not showing in physical interview.',\n",
              "       'Regional contact persons numbers should be made available in the site.',\n",
              "       'Matching should be improved a lot, and keywords should be made efficient. Non-serious candidates. Also the candidate review system by employer. ',\n",
              "       'Non-serious candidates, candidate review system',\n",
              "       'Keyword search,match merchandising CV , Woven cotton etc',\n",
              "       \"Will try the online test feature, didn't know about it\",\n",
              "       'Need a penalty for applying without reading the JD.',\n",
              "       \"Sales Team didn't tell\",\n",
              "       'Totally mis-communication, thinks AO is paid and bdjobs resume is not as updated as customized cv.',\n",
              "       'Lower number of applicants for blue collar jobs, server loading time issue, login page ad issue. NAO for blue collar hiring.',\n",
              "       'Needs to be contacted in regard of new services, interested to try out new features. Just to avail all the option for users',\n",
              "       'more customized barrier, can get right applicants to apply',\n",
              "       'less irrelevant cvs', 'matching should improve',\n",
              "       \"It's not accurate and relevant experience is more accurate \",\n",
              "       'Our question is confedential so cant take it and for matching it is not relevant',\n",
              "       'this is very basic not that advanced but initial sorting can be done',\n",
              "       'matching is useless', 'matching is not effective',\n",
              "       'matching is easy to sort, less irrelevant applications ',\n",
              "       'Need more suggestive approach , '], dtype=object)"
            ]
          },
          "metadata": {},
          "execution_count": 232
        }
      ]
    },
    {
      "cell_type": "code",
      "source": [
        "all[all['Difficult']!='Confidential']['Difficult'].value_counts().plot(kind='pie',autopct='%1.1f%%')"
      ],
      "metadata": {
        "colab": {
          "base_uri": "https://localhost:8080/",
          "height": 423
        },
        "id": "spOcGWuf5QxI",
        "outputId": "fbfc8b76-9b0f-456f-fcd5-23198bfb713d"
      },
      "execution_count": 235,
      "outputs": [
        {
          "output_type": "execute_result",
          "data": {
            "text/plain": [
              "<Axes: ylabel='Difficult'>"
            ]
          },
          "metadata": {},
          "execution_count": 235
        },
        {
          "output_type": "display_data",
          "data": {
            "text/plain": [
              "<Figure size 640x480 with 1 Axes>"
            ],
            "image/png": "[encoded data removed]"
          },
          "metadata": {}
        }
      ]
    },
    {
      "cell_type": "code",
      "source": [],
      "metadata": {
        "id": "Blh7fzDzMQkp"
      },
      "execution_count": null,
      "outputs": []
    }
  ]
}